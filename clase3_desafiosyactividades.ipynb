{
  "nbformat": 4,
  "nbformat_minor": 0,
  "metadata": {
    "colab": {
      "provenance": [],
      "authorship_tag": "ABX9TyOvxx6E5fT3fdtKi9XwVx1U",
      "include_colab_link": true
    },
    "kernelspec": {
      "name": "python3",
      "display_name": "Python 3"
    },
    "language_info": {
      "name": "python"
    }
  },
  "cells": [
    {
      "cell_type": "markdown",
      "metadata": {
        "id": "view-in-github",
        "colab_type": "text"
      },
      "source": [
        "<a href=\"https://colab.research.google.com/github/pupefrosi/Pythonschool/blob/main/clase3_desafiosyactividades.ipynb\" target=\"_parent\"><img src=\"https://colab.research.google.com/assets/colab-badge.svg\" alt=\"Open In Colab\"/></a>"
      ]
    },
    {
      "cell_type": "code",
      "execution_count": null,
      "metadata": {
        "colab": {
          "base_uri": "https://localhost:8080/"
        },
        "id": "q9RhH_212jsh",
        "outputId": "c1a48c12-5253-4b2d-a0da-885483d0f455"
      },
      "outputs": [
        {
          "output_type": "stream",
          "name": "stdout",
          "text": [
            "{'Azul', 'Blanco', 'Rojo'}\n",
            "{'Violeta', 'Dorado', 'Azul', 'Blanco', 'Rojo'}\n",
            "{'Violeta', 'Azul', 'Rojo'}\n"
          ]
        }
      ],
      "source": [
        "#DESAFIO SETS\n",
        "\n",
        "set_colores = {\"Rojo\", \"Blanco\", \"Azul\"}\n",
        "\n",
        "print(set_colores)\n",
        "\n",
        "\n",
        "set_colores.add(\"Violeta\")\n",
        "set_colores.add(\"Dorado\")\n",
        "#se puede hacer con set_colores.update([\"Violeta\", \"Dorado\"])\n",
        "print(set_colores)\n",
        "\n",
        "set_colores.discard(\"Celeste\")\n",
        "set_colores.discard(\"Blanco\")\n",
        "set_colores.discard(\"Dorado\")\n",
        "print(set_colores)"
      ]
    },
    {
      "cell_type": "code",
      "source": [
        "#DESAFIO DICTS\n",
        "\n",
        "#Deberas crear un diccionario que almacene a los ganadores de la Copa Mundial de la FIFA desde el año 1990 al 2018. Y mostrarlo por pantalla.\n",
        "\n",
        "ganadores_copamundial = {\n",
        "    1990: \"Alemania\",\n",
        "    1994: \"Brasil\",\n",
        "    1998: \"Francia\",\n",
        "    2002: \"Brasil\",\n",
        "    2006: \"Italia\",\n",
        "    2010: \"España\",\n",
        "    2014: \"Alemania\",\n",
        "    2018: \"Francia\"\n",
        "}\n",
        "\n",
        "print(\"Los ganadores de la Copa Mundial de la FIFA entre 1990 y 2018, fueron: \")\n",
        "for año, equipo in ganadores_copamundial.items():\n",
        "  print(f\"Año{año}:{equipo}\")\n"
      ],
      "metadata": {
        "colab": {
          "base_uri": "https://localhost:8080/"
        },
        "id": "-FhSTGk14uzf",
        "outputId": "7a09aaea-c16f-45fe-afc4-1cd8b742df0c"
      },
      "execution_count": null,
      "outputs": [
        {
          "output_type": "stream",
          "name": "stdout",
          "text": [
            "Los ganadores de la Copa Mundial de la FIFA entre 1990 y 2018, fueron: \n",
            "Año1990:Alemania\n",
            "Año1994:Brasil\n",
            "Año1998:Francia\n",
            "Año2002:Brasil\n",
            "Año2006:Italia\n",
            "Año2010:España\n",
            "Año2014:Alemania\n",
            "Año2018:Francia\n"
          ]
        }
      ]
    },
    {
      "cell_type": "code",
      "source": [
        "#DESAFIO DICTS\n",
        "\n",
        "paises = {\"Inglaterra\", \"USA\", \"Mexico\"}\n",
        "paises.update({\"Islandia\", \"Italia\", \"Argentina\", \"Portugal\", \"USA\"})\n",
        "print(paises)\n",
        "\n",
        "# paises.remove(\"Chile\") --> no figura, por lo cual, al querer remover Chile no lo encuentra y lanza un error.\n",
        "#El elemento USA al estar duplicado, se pierde uno, dado que los diccionarios no permiten duplicidad de valores."
      ],
      "metadata": {
        "colab": {
          "base_uri": "https://localhost:8080/"
        },
        "id": "gsLYA4wf3F3P",
        "outputId": "2295674b-78d5-4ad5-9582-3a5219052513"
      },
      "execution_count": null,
      "outputs": [
        {
          "output_type": "stream",
          "name": "stdout",
          "text": [
            "{'Portugal', 'Italia', 'Inglaterra', 'USA', 'Mexico', 'Islandia', 'Argentina'}\n"
          ]
        }
      ]
    },
    {
      "cell_type": "code",
      "source": [
        "# Solicitar al usuario su nombre\n",
        "nombre = input(\"Por favor, ingresa tu nombre: \")\n",
        "\n",
        "# Solicitar al usuario su edad\n",
        "edad = input(\"Por favor, ingresa tu edad: \")\n",
        "\n",
        "# Solicitar al usuario su dirección\n",
        "direccion = input(\"Por favor, ingresa tu dirección: \")\n",
        "\n",
        "# Mostrar la información por pantalla\n",
        "print(f\"{nombre} tiene {edad} años, y vive en {direccion}.\")"
      ],
      "metadata": {
        "id": "dBhKk8XA4rG4",
        "outputId": "ccf646c3-86fc-48d6-8a28-a86a9d6a6cd8",
        "colab": {
          "base_uri": "https://localhost:8080/"
        }
      },
      "execution_count": 1,
      "outputs": [
        {
          "output_type": "stream",
          "name": "stdout",
          "text": [
            "Por favor, ingresa tu nombre: guadalupe\n",
            "Por favor, ingresa tu edad: 34\n",
            "Por favor, ingresa tu dirección: pepe argento 2300\n",
            "guadalupe tiene 34 años, y vive en pepe argento 2300.\n"
          ]
        }
      ]
    }
  ]
}