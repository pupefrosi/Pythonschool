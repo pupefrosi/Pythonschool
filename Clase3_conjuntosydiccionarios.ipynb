{
  "nbformat": 4,
  "nbformat_minor": 0,
  "metadata": {
    "colab": {
      "provenance": [],
      "authorship_tag": "ABX9TyOsCp1fvwjBq0PAz7ZMk1/i",
      "include_colab_link": true
    },
    "kernelspec": {
      "name": "python3",
      "display_name": "Python 3"
    },
    "language_info": {
      "name": "python"
    }
  },
  "cells": [
    {
      "cell_type": "markdown",
      "metadata": {
        "id": "view-in-github",
        "colab_type": "text"
      },
      "source": [
        "<a href=\"https://colab.research.google.com/github/pupefrosi/Pythonschool/blob/main/Clase3_conjuntosydiccionarios.ipynb\" target=\"_parent\"><img src=\"https://colab.research.google.com/assets/colab-badge.svg\" alt=\"Open In Colab\"/></a>"
      ]
    },
    {
      "cell_type": "code",
      "execution_count": null,
      "metadata": {
        "colab": {
          "base_uri": "https://localhost:8080/"
        },
        "id": "qq9FA2KGyEUj",
        "outputId": "5da52ddb-a198-47eb-93e3-c1bee1ed104a"
      },
      "outputs": [
        {
          "output_type": "stream",
          "name": "stdout",
          "text": [
            "{50, 'Juan', 'Ramon'}\n"
          ]
        }
      ],
      "source": [
        "#CONJUNTOS Y DICCIONARIOS\n",
        "\n",
        "#4 estructuras de datos nativas de Python : listas, tuplas, conjuntos y diccionarios\n",
        "#Lista --> [] Tupla -->()\n",
        "\n",
        "#SET ---> CONJUNTOS\n",
        "# se crea con {}, son heterogeneos, pueden tener cualquier tipo de datos\n",
        "#se diferencia del resto de datos porque el set es NO ORDENADO, No Indexado.\n",
        "#Es Mutable pero no se pueden cambiar los valores ya existentes porque al ser\n",
        "#no indexado no se puede sacar un dato especifico.\n",
        "#No permite valores duplicados! Sirve para listas de DNI por ej para sacar los duplicados\n",
        "\n",
        "\n",
        "datos = {\"Juan\", \"Ramon\", 50}\n",
        "print(datos)\n"
      ]
    },
    {
      "cell_type": "code",
      "source": [
        "#para convertir el set en lista, aplicamos la siguiente funcion\n",
        "\n",
        "list(datos)\n",
        "#set(datos)"
      ],
      "metadata": {
        "colab": {
          "base_uri": "https://localhost:8080/"
        },
        "id": "DPCRd-jH0ljh",
        "outputId": "237e942b-40f8-4463-a0c5-3c4874efbb2a"
      },
      "execution_count": null,
      "outputs": [
        {
          "output_type": "execute_result",
          "data": {
            "text/plain": [
              "[50, 'Juan', 'Ramon']"
            ]
          },
          "metadata": {},
          "execution_count": 49
        }
      ]
    },
    {
      "cell_type": "code",
      "source": [
        "lista_nombres = [\"ramon\", \"pedro\", \"juan\", \"pedro\", \"jose\"]\n",
        "\n",
        "print(lista_nombres)"
      ],
      "metadata": {
        "colab": {
          "base_uri": "https://localhost:8080/"
        },
        "id": "rhNevy_x1oml",
        "outputId": "e76ef8e9-b2ee-48e4-a20f-be914d021bc2"
      },
      "execution_count": null,
      "outputs": [
        {
          "output_type": "stream",
          "name": "stdout",
          "text": [
            "['ramon', 'pedro', 'juan', 'pedro', 'jose']\n"
          ]
        }
      ]
    },
    {
      "cell_type": "code",
      "source": [
        "#ejemplo de eliminacion de duplicados a traves de una conversion de una lista en set\n",
        "set_nombres = set(lista_nombres)\n",
        "print(set_nombres)"
      ],
      "metadata": {
        "colab": {
          "base_uri": "https://localhost:8080/"
        },
        "id": "Facry5mD121g",
        "outputId": "ffcd0f3b-6443-48e9-ccf3-fcf71aff30cd"
      },
      "execution_count": null,
      "outputs": [
        {
          "output_type": "stream",
          "name": "stdout",
          "text": [
            "{'pedro', 'ramon', 'juan', 'jose'}\n"
          ]
        }
      ]
    },
    {
      "cell_type": "code",
      "source": [
        "#METODOS DE SET(funciones)\n",
        "\n",
        "#ADD\n",
        "#permite agregar un nuevo valor al set\n",
        "\n",
        "set_nombres.add(\"pepe\")\n",
        "print(set_nombres)"
      ],
      "metadata": {
        "colab": {
          "base_uri": "https://localhost:8080/"
        },
        "id": "_e7KU_3m2tAJ",
        "outputId": "35cbb8de-b618-43c5-908b-fa981fe966c9"
      },
      "execution_count": null,
      "outputs": [
        {
          "output_type": "stream",
          "name": "stdout",
          "text": [
            "{'pedro', 'juan', 'jose', 'ramon', 'pepe'}\n"
          ]
        }
      ]
    },
    {
      "cell_type": "code",
      "source": [
        "#UPDATE\n",
        "#metodo para actualizar un set. SIRVE P/AGREGAR ELEM.\n",
        "#lo que agrego siempre debe ser una estructura de datos iterable.\n",
        "#puede agregarse listas, tuplas, colecciones, etc pero no valores solos.\n",
        "\n",
        "set_nombres.update([\"Marcos\", \"Julian\", \"Paula\"])\n",
        "\n",
        "print(set_nombres)"
      ],
      "metadata": {
        "colab": {
          "base_uri": "https://localhost:8080/"
        },
        "id": "GDGwETBI3TFh",
        "outputId": "e80040cd-fa40-4d41-ee34-4836859a6a99"
      },
      "execution_count": null,
      "outputs": [
        {
          "output_type": "stream",
          "name": "stdout",
          "text": [
            "{'pedro', 'juan', 'jose', 'Paula', 'Julian', 'Marcos', 'ramon', 'pepe'}\n"
          ]
        }
      ]
    },
    {
      "cell_type": "code",
      "source": [
        "#si agrego un solo string, lo particiona y lo itera\n",
        "set_nombres.update(\"marcos\")\n",
        "print(set_nombres)\n",
        "#si agregamos solo un numero da error porque no es iterable."
      ],
      "metadata": {
        "colab": {
          "base_uri": "https://localhost:8080/"
        },
        "id": "sFQEKyf_4mEw",
        "outputId": "cdad7a09-ae54-4acb-a580-466fc0b6d0f2"
      },
      "execution_count": null,
      "outputs": [
        {
          "output_type": "stream",
          "name": "stdout",
          "text": [
            "{'o', 's', 'pedro', 'a', 'juan', 'jose', 'r', 'c', 'Paula', 'Julian', 'Marcos', 'ramon', 'pepe', 'm'}\n"
          ]
        }
      ]
    },
    {
      "cell_type": "code",
      "source": [
        "#DISCARD\n",
        "\n",
        "#sirve para eliminar el elemento indicado.\n",
        "#si lo encuentra lo borra, sino no lo descarta y no pasa nada\n",
        "\n",
        "set_nombres.discard(\"Marcos\")\n",
        "print(set_nombres)"
      ],
      "metadata": {
        "colab": {
          "base_uri": "https://localhost:8080/"
        },
        "id": "y91pMnJO5BGS",
        "outputId": "91ced326-5eb0-4ff6-f079-969ca2789272"
      },
      "execution_count": null,
      "outputs": [
        {
          "output_type": "stream",
          "name": "stdout",
          "text": [
            "{'o', 's', 'pedro', 'a', 'juan', 'jose', 'r', 'c', 'Paula', 'Julian', 'ramon', 'pepe', 'm'}\n"
          ]
        }
      ]
    },
    {
      "cell_type": "code",
      "source": [
        "#REMOVE\n",
        "#toma el valor a borrar y lo remueve. pero si no lo encuentra indica error.\n",
        "#debo asegurarme que el elemento pertenezca al set a diferencia de discard\n",
        "\n",
        "set_nombres.remove(\"juan\")\n",
        "print(set_nombres)"
      ],
      "metadata": {
        "colab": {
          "base_uri": "https://localhost:8080/"
        },
        "id": "-wkVnsT35d9S",
        "outputId": "619c97e8-7539-4fdc-c7e9-432db99b272a"
      },
      "execution_count": null,
      "outputs": [
        {
          "output_type": "stream",
          "name": "stdout",
          "text": [
            "{'o', 's', 'pedro', 'a', 'jose', 'r', 'c', 'Paula', 'Julian', 'ramon', 'pepe', 'm'}\n"
          ]
        }
      ]
    },
    {
      "cell_type": "code",
      "source": [
        "#POP\n",
        "#elimina un elemento random o al azar\n",
        "#no es necesario introducir ningun dato en ()\n",
        "\n",
        "set_nombres.pop()\n",
        "print(set_nombres)"
      ],
      "metadata": {
        "colab": {
          "base_uri": "https://localhost:8080/"
        },
        "id": "aZUzZNOi6SRO",
        "outputId": "a45b6548-886d-45e4-edb6-1ede76f90e6c"
      },
      "execution_count": null,
      "outputs": [
        {
          "output_type": "stream",
          "name": "stdout",
          "text": [
            "{'pedro', 'a', 'jose', 'r', 'c', 'Paula', 'Julian', 'ramon', 'pepe', 'm'}\n"
          ]
        }
      ]
    },
    {
      "cell_type": "code",
      "source": [
        "#IN\n",
        "\n",
        "#no es un metodo real pero porque es un operador o palabra clave.\n",
        "#se usa para comprobar si un valor existe dentro de un set.\n",
        "#y responde con booleanos u operador logico.\n",
        "\n",
        "print(\"jose\" in set_nombres)"
      ],
      "metadata": {
        "colab": {
          "base_uri": "https://localhost:8080/"
        },
        "id": "_N4HJJqG8VZW",
        "outputId": "85a117f1-b0ce-4125-bd84-53a38ad35b0a"
      },
      "execution_count": null,
      "outputs": [
        {
          "output_type": "stream",
          "name": "stdout",
          "text": [
            "True\n"
          ]
        }
      ]
    },
    {
      "cell_type": "code",
      "source": [
        "print(\"Ramon\" in set_nombres)"
      ],
      "metadata": {
        "colab": {
          "base_uri": "https://localhost:8080/"
        },
        "id": "z-UpUmsM9DFJ",
        "outputId": "fff77bf1-741f-4070-95f7-3d0fefc8a88b"
      },
      "execution_count": null,
      "outputs": [
        {
          "output_type": "stream",
          "name": "stdout",
          "text": [
            "False\n"
          ]
        }
      ]
    },
    {
      "cell_type": "code",
      "source": [
        "#CLEAR\n",
        "\n",
        "#limpia o vacia todo el set\n",
        "\n",
        "set_nombres.clear()\n",
        "print(set_nombres)"
      ],
      "metadata": {
        "colab": {
          "base_uri": "https://localhost:8080/"
        },
        "id": "AqAp-dmJ9KSh",
        "outputId": "6b028a90-c882-478e-9c7e-3711b35f65e8"
      },
      "execution_count": null,
      "outputs": [
        {
          "output_type": "stream",
          "name": "stdout",
          "text": [
            "set()\n"
          ]
        }
      ]
    },
    {
      "cell_type": "code",
      "source": [
        "#EJERCICIO DE CLASE\n",
        "\n",
        "set_colores = {\"Rojo\", \"Blanco\", \"Azul\"}\n",
        "\n",
        "print(set_colores)"
      ],
      "metadata": {
        "colab": {
          "base_uri": "https://localhost:8080/"
        },
        "id": "2HQNgJ8294nn",
        "outputId": "441d7cf3-f6e7-4fdf-fa06-f99d3b800015"
      },
      "execution_count": null,
      "outputs": [
        {
          "output_type": "stream",
          "name": "stdout",
          "text": [
            "{'Azul', 'Rojo', 'Blanco'}\n"
          ]
        }
      ]
    },
    {
      "cell_type": "code",
      "source": [
        "set_colores.add(\"Violeta\")\n",
        "set_colores.add(\"Dorado\")\n",
        "#se puede hacer con set_colores.update([\"Violeta\", \"Dorado\"])\n",
        "print(set_colores)"
      ],
      "metadata": {
        "colab": {
          "base_uri": "https://localhost:8080/"
        },
        "id": "lFL-tmNnAMmC",
        "outputId": "1deb1c02-5a43-43a1-97b7-ed76f9d068fb"
      },
      "execution_count": null,
      "outputs": [
        {
          "output_type": "stream",
          "name": "stdout",
          "text": [
            "{'Rojo', 'Blanco', 'Violeta', 'Dorado', 'Azul'}\n"
          ]
        }
      ]
    },
    {
      "cell_type": "code",
      "source": [
        "set_colores.discard(\"Celeste\")\n",
        "set_colores.discard(\"Blanco\")\n",
        "set_colores.discard(\"Dorado\")\n",
        "print(set_colores)"
      ],
      "metadata": {
        "colab": {
          "base_uri": "https://localhost:8080/"
        },
        "id": "MKokE3xnAmNj",
        "outputId": "4b817b2e-8b3e-466f-cb5e-08a799a3e926"
      },
      "execution_count": null,
      "outputs": [
        {
          "output_type": "stream",
          "name": "stdout",
          "text": [
            "{'Rojo', 'Violeta', 'Azul'}\n"
          ]
        }
      ]
    },
    {
      "cell_type": "code",
      "source": [
        "#DICCIONARIOS\n",
        "\n",
        "#son ordenados, mutables, no permiten datos duplicados en cuanto a llave para no sobreescribir el indice.\n",
        "#esta compuesto por pares de valores. cada elemento del dic es una dupla de valores\n",
        "#tambien es con {} y la llave sirve para encontrar el valor.\n",
        "# la llave puede ser solo un string o un int(entero)\n",
        "#Valor es cualquier tipo de dato.\n",
        "\n",
        "#usuarios = {llave:valor , llave:valor , llave:valor}\n",
        "\n",
        "usuarios = {\"u1\":\"Marcos\", \"u2\":\"Romina\", \"u3\":\"Juan\"}\n",
        "random = {1:\"Pedro\", 2:[\"Rojo\", \"Amarillo\", \"Azul\"]}\n"
      ],
      "metadata": {
        "id": "Gmu7lO4oBwKM"
      },
      "execution_count": null,
      "outputs": []
    },
    {
      "cell_type": "code",
      "source": [
        "#ACCESO A LOS VALORES\n",
        "\n",
        "usuarios[\"u1\"]"
      ],
      "metadata": {
        "colab": {
          "base_uri": "https://localhost:8080/",
          "height": 36
        },
        "id": "QQ96jXa3C3u4",
        "outputId": "3043c150-ec9e-44fd-c120-eb2ee5d8e010"
      },
      "execution_count": null,
      "outputs": [
        {
          "output_type": "execute_result",
          "data": {
            "text/plain": [
              "'Marcos'"
            ],
            "application/vnd.google.colaboratory.intrinsic+json": {
              "type": "string"
            }
          },
          "metadata": {},
          "execution_count": 79
        }
      ]
    },
    {
      "cell_type": "code",
      "source": [
        "random[2]"
      ],
      "metadata": {
        "colab": {
          "base_uri": "https://localhost:8080/"
        },
        "id": "k0hRgmjlDQKG",
        "outputId": "1ea93441-011b-4503-cfcc-09b312144315"
      },
      "execution_count": null,
      "outputs": [
        {
          "output_type": "execute_result",
          "data": {
            "text/plain": [
              "['Rojo', 'Amarillo', 'Azul']"
            ]
          },
          "metadata": {},
          "execution_count": 81
        }
      ]
    },
    {
      "cell_type": "code",
      "source": [
        "#METODOS DE DICCIONARIO\n",
        "\n",
        "#KEYS --- DEVUELVE ESTRUCTURA DE DATOS(lista) CON LAS LLAVES DEL DICCIONARIO\n",
        "\n",
        "print(usuarios.keys())\n"
      ],
      "metadata": {
        "colab": {
          "base_uri": "https://localhost:8080/"
        },
        "id": "g9XLBK66DggL",
        "outputId": "ac85d8ff-c9cb-421a-bd9b-ce10244f4f19"
      },
      "execution_count": null,
      "outputs": [
        {
          "output_type": "stream",
          "name": "stdout",
          "text": [
            "dict_keys(['u1', 'u2', 'u3'])\n"
          ]
        }
      ]
    },
    {
      "cell_type": "code",
      "source": [
        "#no tiene add pero se puede agregar un elemento de la siguiente forma:\n",
        "\n",
        "usuarios[\"u4\"] = \"Marcos\"\n",
        "\n",
        "print(usuarios)"
      ],
      "metadata": {
        "colab": {
          "base_uri": "https://localhost:8080/"
        },
        "id": "j49JdTdVESKI",
        "outputId": "2472ffab-0cd4-45a7-e338-061f26c7499b"
      },
      "execution_count": null,
      "outputs": [
        {
          "output_type": "stream",
          "name": "stdout",
          "text": [
            "{'u1': 'Marcos', 'u2': 'Romina', 'u3': 'Juan', 'u4': 'Marcos'}\n"
          ]
        }
      ]
    },
    {
      "cell_type": "code",
      "source": [
        "#UPDATE\n",
        "\n",
        "#es mas prolijo y permite agregar mas elementos. solo se puede agregar otro diccionario llave:valor\n",
        "#no se puede agregar un solo elemento suelto.\n",
        "\n",
        "usuarios.update({\"u5\":\"Pedro\"})\n",
        "print(usuarios)"
      ],
      "metadata": {
        "colab": {
          "base_uri": "https://localhost:8080/"
        },
        "id": "ln2s5ZSCFH8q",
        "outputId": "543bd3fe-48a3-421d-d6a3-14b8e97503f6"
      },
      "execution_count": null,
      "outputs": [
        {
          "output_type": "stream",
          "name": "stdout",
          "text": [
            "{'u1': 'Marcos', 'u2': 'Romina', 'u3': 'Juan', 'u4': 'Marcos', 'u5': 'Pedro'}\n"
          ]
        }
      ]
    },
    {
      "cell_type": "code",
      "source": [
        "#agregar lista a diccionario\n",
        "usuarios.update({\"lista_colores\": [\"Rojo\",\"Azul\"]})\n",
        "print(usuarios[\"lista_colores\"])"
      ],
      "metadata": {
        "id": "e3TenjH9F647"
      },
      "execution_count": null,
      "outputs": []
    },
    {
      "cell_type": "code",
      "source": [
        "#POP\n",
        "\n",
        "#elimimna un elemento a traves de una llave. mas recomendable que DEL\n",
        "\n",
        "usuarios.pop(\"u1\")\n",
        "print(usuarios)"
      ],
      "metadata": {
        "colab": {
          "base_uri": "https://localhost:8080/"
        },
        "id": "pqpOrvPMGxTG",
        "outputId": "983914b3-9a73-4d79-e40f-6930580d6926"
      },
      "execution_count": null,
      "outputs": [
        {
          "output_type": "stream",
          "name": "stdout",
          "text": [
            "{'u2': 'Romina', 'u3': 'Juan', 'u4': 'Marcos', 'u5': 'Pedro'}\n"
          ]
        }
      ]
    },
    {
      "cell_type": "code",
      "source": [
        "#DEL\n",
        "\n",
        "#sirve para eliminar un elemento o todo el diccionario\n",
        "del usuarios[\"u4\"]\n",
        "print(usuarios)"
      ],
      "metadata": {
        "colab": {
          "base_uri": "https://localhost:8080/"
        },
        "id": "1pGKP9N1HCvA",
        "outputId": "4d81d2ee-72dd-4edc-eff3-e810629abe66"
      },
      "execution_count": null,
      "outputs": [
        {
          "output_type": "stream",
          "name": "stdout",
          "text": [
            "{'u2': 'Romina', 'u3': 'Juan', 'u5': 'Pedro'}\n"
          ]
        }
      ]
    },
    {
      "cell_type": "code",
      "source": [
        "#ANIDAMIENTO\n",
        "\n",
        "test = [\"Pedro\", \"Rojo\", 30, [\"Raton\", \"Perro\", \"Gato\"], True, {\"u1\":\"Marcos\", \"u2\":[\"Laura\", \"Marcela\"]}]"
      ],
      "metadata": {
        "id": "wyjZinUPHw9J"
      },
      "execution_count": null,
      "outputs": []
    },
    {
      "cell_type": "code",
      "source": [
        "test[2]"
      ],
      "metadata": {
        "colab": {
          "base_uri": "https://localhost:8080/"
        },
        "id": "PHHyHEPjIQVx",
        "outputId": "3a0d171a-cbb1-4c0e-b193-276b2e664c81"
      },
      "execution_count": null,
      "outputs": [
        {
          "output_type": "execute_result",
          "data": {
            "text/plain": [
              "30"
            ]
          },
          "metadata": {},
          "execution_count": 91
        }
      ]
    },
    {
      "cell_type": "code",
      "source": [
        "test[4]"
      ],
      "metadata": {
        "colab": {
          "base_uri": "https://localhost:8080/"
        },
        "id": "OUblgTNgIWuc",
        "outputId": "4ce2f974-7725-4d0b-b217-9b3dfaa71f6d"
      },
      "execution_count": null,
      "outputs": [
        {
          "output_type": "execute_result",
          "data": {
            "text/plain": [
              "True"
            ]
          },
          "metadata": {},
          "execution_count": 92
        }
      ]
    },
    {
      "cell_type": "code",
      "source": [
        "resultado = test[3]\n",
        "print(resultado)\n",
        "print(resultado[1])"
      ],
      "metadata": {
        "colab": {
          "base_uri": "https://localhost:8080/"
        },
        "id": "3OpJF4YrIeML",
        "outputId": "c2e57350-bca2-4ab2-949b-d04a7dae4064"
      },
      "execution_count": null,
      "outputs": [
        {
          "output_type": "stream",
          "name": "stdout",
          "text": [
            "['Raton', 'Perro', 'Gato']\n",
            "Perro\n"
          ]
        }
      ]
    },
    {
      "cell_type": "code",
      "source": [
        "#accedo primero a la lista y luego al valor dentro de la lista\n",
        "\n",
        "test[3][1]"
      ],
      "metadata": {
        "colab": {
          "base_uri": "https://localhost:8080/",
          "height": 36
        },
        "id": "indAmt_0JHul",
        "outputId": "979b9c97-615e-4bae-f9dd-9ee57839a763"
      },
      "execution_count": null,
      "outputs": [
        {
          "output_type": "execute_result",
          "data": {
            "text/plain": [
              "'Perro'"
            ],
            "application/vnd.google.colaboratory.intrinsic+json": {
              "type": "string"
            }
          },
          "metadata": {},
          "execution_count": 96
        }
      ]
    },
    {
      "cell_type": "code",
      "source": [
        "#accedo al diccionario y luego al valor dentro\n",
        "\n",
        "test[5][\"u1\"]"
      ],
      "metadata": {
        "colab": {
          "base_uri": "https://localhost:8080/",
          "height": 36
        },
        "id": "n9jisgYXJlcr",
        "outputId": "e157792f-436c-4119-8be4-10b09414b20b"
      },
      "execution_count": null,
      "outputs": [
        {
          "output_type": "execute_result",
          "data": {
            "text/plain": [
              "'Marcos'"
            ],
            "application/vnd.google.colaboratory.intrinsic+json": {
              "type": "string"
            }
          },
          "metadata": {},
          "execution_count": 98
        }
      ]
    },
    {
      "cell_type": "code",
      "source": [
        "test[5][\"u2\"][1]"
      ],
      "metadata": {
        "id": "_VIsX4NSJ3ec",
        "outputId": "3519bacf-1e3c-432f-9645-8e1e82245060",
        "colab": {
          "base_uri": "https://localhost:8080/",
          "height": 36
        }
      },
      "execution_count": null,
      "outputs": [
        {
          "output_type": "execute_result",
          "data": {
            "text/plain": [
              "'Marcela'"
            ],
            "application/vnd.google.colaboratory.intrinsic+json": {
              "type": "string"
            }
          },
          "metadata": {},
          "execution_count": 99
        }
      ]
    }
  ]
}