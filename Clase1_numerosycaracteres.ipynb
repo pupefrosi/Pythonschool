{
  "nbformat": 4,
  "nbformat_minor": 0,
  "metadata": {
    "colab": {
      "provenance": [],
      "authorship_tag": "ABX9TyMatUn9CtX8lRdpZtqQDxIG",
      "include_colab_link": true
    },
    "kernelspec": {
      "name": "python3",
      "display_name": "Python 3"
    },
    "language_info": {
      "name": "python"
    }
  },
  "cells": [
    {
      "cell_type": "markdown",
      "metadata": {
        "id": "view-in-github",
        "colab_type": "text"
      },
      "source": [
        "<a href=\"https://colab.research.google.com/github/pupefrosi/Pythonschool/blob/main/clase1.ipynb\" target=\"_parent\"><img src=\"https://colab.research.google.com/assets/colab-badge.svg\" alt=\"Open In Colab\"/></a>"
      ]
    },
    {
      "cell_type": "code",
      "execution_count": 1,
      "metadata": {
        "colab": {
          "base_uri": "https://localhost:8080/"
        },
        "id": "lTsBbdndxTXs",
        "outputId": "4f14b0f4-91e6-4454-af71-0d462505f1c9"
      },
      "outputs": [
        {
          "output_type": "stream",
          "name": "stdout",
          "text": [
            "Marta\n",
            "55\n"
          ]
        }
      ],
      "source": [
        "#VARIABLES + OPERADOR DE ASIGNACION\n",
        "\n",
        "#el operador de asignacion es el signo =. el valor de la derecha se le\n",
        "#asigna al valor de la izquierda. cuando tenemos dos variables con el\n",
        "#mismo nombre, e ultimo valor agregado es el que queda como resultado.\n",
        "\n",
        "nombre_usuario = \"Juan\"\n",
        "nombre_usuario = \"Marta\"\n",
        "\n",
        "edad_usuario = 30\n",
        "edad_usuario = 55\n",
        "\n",
        "print(nombre_usuario)\n",
        "\n",
        "print(edad_usuario)"
      ]
    },
    {
      "cell_type": "code",
      "source": [
        "#DATA TYPE O TIPOS DE DATOS\n",
        "\n",
        "#STRING ---> cadena de caracteres. se le colocan \"\"\n",
        "color = \"Rojo\"\n",
        "\n",
        "#NUMBER ----> INT (ENTEROS)\n",
        "dni = 34640317\n",
        "\n",
        "#NUMBER ----> FLOAT (numeros con parte decimal)\n",
        "nota_usuario = 7.5\n",
        "\n",
        "#BOOLEANO ---> valores logicos (true o false - o 1 y 0)\n",
        "es_socio = True"
      ],
      "metadata": {
        "id": "gJ5pRJjAz5Xg"
      },
      "execution_count": null,
      "outputs": []
    },
    {
      "cell_type": "code",
      "source": [
        "#python es dinamicamente o debilmente tipado. no fuerza a las variables a\n",
        "# que mantengan con un solo tipo de dato.\n",
        "\n",
        "patente_auto = \"AXB123\"\n",
        "\n",
        "patente_auto = 300\n",
        "\n",
        "print(patente_auto)"
      ],
      "metadata": {
        "colab": {
          "base_uri": "https://localhost:8080/"
        },
        "id": "YIHvzHkf1JtZ",
        "outputId": "0b9f1a46-6556-4722-bc65-26a025f6e185"
      },
      "execution_count": 2,
      "outputs": [
        {
          "output_type": "stream",
          "name": "stdout",
          "text": [
            "300\n"
          ]
        }
      ]
    },
    {
      "cell_type": "code",
      "source": [
        "#OPERADORES ARITMETICOS\n",
        "\n",
        "#los operadores tienen presedencia\n",
        "\n",
        "x = 30\n",
        "y = 20\n",
        "\n",
        "# SUMA (+)\n",
        "suma = 10 + 30\n",
        "suma = 50 + 20\n",
        "suma = x + 50\n",
        "suma = x + y\n",
        "\n",
        "print(suma)"
      ],
      "metadata": {
        "colab": {
          "base_uri": "https://localhost:8080/"
        },
        "id": "qKNa6Q4z2g0H",
        "outputId": "e27c333a-e464-4312-f7ae-c0aa13598bcf"
      },
      "execution_count": 3,
      "outputs": [
        {
          "output_type": "stream",
          "name": "stdout",
          "text": [
            "50\n"
          ]
        }
      ]
    },
    {
      "cell_type": "code",
      "source": [
        "#CONCATENACION\n",
        "#El operador SUMA tambien sirve para unir strings ademas de valores numeri\n",
        "#conc = 30 + \"Jose\" ERROR TIPO DE DATO\n",
        "\n",
        "conc = \"Juan\" + \"Lopez\"\n",
        "conc = \"Juan\" + \" \" + \"Lopez\"\n",
        "print(conc)\n"
      ],
      "metadata": {
        "colab": {
          "base_uri": "https://localhost:8080/"
        },
        "id": "ch3XZbSJ4a9v",
        "outputId": "e805cde5-45d9-41ec-b3ff-bac865cdbbd3"
      },
      "execution_count": 4,
      "outputs": [
        {
          "output_type": "stream",
          "name": "stdout",
          "text": [
            "Juan Lopez\n"
          ]
        }
      ]
    },
    {
      "cell_type": "code",
      "source": [
        "#RESTA\n",
        "\n",
        "#similar a la suma. se distingue por -\n",
        "\n",
        "resta = 100 - 70\n",
        "\n",
        "print( resta )"
      ],
      "metadata": {
        "colab": {
          "base_uri": "https://localhost:8080/"
        },
        "id": "Yz0GOq0Z5dTu",
        "outputId": "5531b81a-f6ac-4f03-e945-3b8e06153bea"
      },
      "execution_count": 5,
      "outputs": [
        {
          "output_type": "stream",
          "name": "stdout",
          "text": [
            "30\n"
          ]
        }
      ]
    },
    {
      "cell_type": "code",
      "source": [
        "#MULTIPLICACION\n",
        "\n",
        "#se distingue por el *\n",
        "\n",
        "multi = 20 * 2\n",
        "print(multi)"
      ],
      "metadata": {
        "colab": {
          "base_uri": "https://localhost:8080/"
        },
        "id": "TJKDeWfM5lGo",
        "outputId": "9fd1c7f0-21fa-462b-bde5-1b98bd870e75"
      },
      "execution_count": 6,
      "outputs": [
        {
          "output_type": "stream",
          "name": "stdout",
          "text": [
            "40\n"
          ]
        }
      ]
    },
    {
      "cell_type": "code",
      "source": [
        "#DIVISION\n",
        "\n",
        "#se distingue por /\n",
        "\n",
        "divi = 10 / 2\n",
        "print(divi)"
      ],
      "metadata": {
        "colab": {
          "base_uri": "https://localhost:8080/"
        },
        "id": "2ispYBNK5xQ8",
        "outputId": "cacd6ea9-be5a-48df-aaff-944073763204"
      },
      "execution_count": 7,
      "outputs": [
        {
          "output_type": "stream",
          "name": "stdout",
          "text": [
            "5.0\n"
          ]
        }
      ]
    },
    {
      "cell_type": "code",
      "source": [
        "resultado = 10 + 20 * 2\n",
        "\n",
        "print( resultado )"
      ],
      "metadata": {
        "colab": {
          "base_uri": "https://localhost:8080/"
        },
        "id": "bUpGJZgX6DSk",
        "outputId": "8b6e8366-789d-4ea0-fd78-019e0d1364fd"
      },
      "execution_count": 8,
      "outputs": [
        {
          "output_type": "stream",
          "name": "stdout",
          "text": [
            "50\n"
          ]
        }
      ]
    },
    {
      "cell_type": "code",
      "source": [
        "#I/O\n",
        "#el PRINT es una funcion de SALIDA de datos.\n",
        "\n",
        "print(\"Hola\")\n",
        "\n",
        "#el INPUT es una funcion de entrada de datos. Pausa la ejecucion hasta que\n",
        "#ingrese un dato. Para que ese dato que se obtiene del input no se pierda,\n",
        "#se almacena en una variable.\n",
        "\n",
        "nombre_usuario = input(\"ingresa tu nombre\")\n",
        "\n",
        "print(\"Bienvenido al sistema: \" , nombre_usuario)"
      ],
      "metadata": {
        "colab": {
          "base_uri": "https://localhost:8080/"
        },
        "id": "fBKoDBKM9sIu",
        "outputId": "db7a1444-d4fe-48a2-a0d4-c4420bc8200a"
      },
      "execution_count": 9,
      "outputs": [
        {
          "output_type": "stream",
          "name": "stdout",
          "text": [
            "Hola\n",
            "ingresa tu nombreGuada\n",
            "Bienvenido al sistema:  Guada\n"
          ]
        }
      ]
    },
    {
      "cell_type": "code",
      "source": [
        "#Pedir al usuario dos numeros por teclado y mostrar la suma de los mismos\n",
        "\n",
        "numero1 = input(\"introduzca un numero \")\n",
        "numero2 = input(\"introduzca otro numero \")\n",
        "print(numero1 + numero2)\n",
        "\n",
        "#otro ejemplo para formular lo anterior porque el input guarda valores\n",
        "#como string, no nos permite sumar los valores, sino que los concatena."
      ],
      "metadata": {
        "colab": {
          "base_uri": "https://localhost:8080/"
        },
        "id": "fOeZ3O9O_Ve-",
        "outputId": "b5b95d8a-f7e5-4ea8-c689-71b47d8374b4"
      },
      "execution_count": 10,
      "outputs": [
        {
          "output_type": "stream",
          "name": "stdout",
          "text": [
            "introduzca un numero 3\n",
            "introduzca otro numero 4\n",
            "34\n"
          ]
        }
      ]
    },
    {
      "cell_type": "code",
      "source": [
        "#PARSE O CASTING (parsear o castear)\n",
        "# funcion int() --> convierte un valor a entero\n",
        "\n",
        "resultado = int(\"10\")\n",
        "print(resultado)\n",
        "\n",
        "\n",
        "x = int(\"10\")\n",
        "y = int(\"30\")\n",
        "\n",
        "suma = x + y\n",
        "print(suma)"
      ],
      "metadata": {
        "colab": {
          "base_uri": "https://localhost:8080/"
        },
        "id": "D5DQO39OAQvj",
        "outputId": "8276c154-59d0-4856-b945-de594a6e8f79"
      },
      "execution_count": 11,
      "outputs": [
        {
          "output_type": "stream",
          "name": "stdout",
          "text": [
            "10\n",
            "40\n"
          ]
        }
      ]
    },
    {
      "cell_type": "code",
      "source": [
        "num1 = input(\"introduzca un numero \")\n",
        "num2 = input(\"introduzca otro numero \")\n",
        "\n",
        "numero1 = int(num1)\n",
        "numero2 = int(num2)\n",
        "\n",
        "suma = numero1 + numero2\n",
        "\n",
        "print(\"La suma es: \", suma)"
      ],
      "metadata": {
        "colab": {
          "base_uri": "https://localhost:8080/"
        },
        "id": "qslMZc27B4D5",
        "outputId": "09c442e3-76db-447a-ea37-972ff6d89532"
      },
      "execution_count": 12,
      "outputs": [
        {
          "output_type": "stream",
          "name": "stdout",
          "text": [
            "introduzca un numero 5\n",
            "introduzca otro numero 6\n",
            "La suma es:  11\n"
          ]
        }
      ]
    },
    {
      "cell_type": "code",
      "source": [
        "#str()\n",
        "str(30)"
      ],
      "metadata": {
        "colab": {
          "base_uri": "https://localhost:8080/",
          "height": 36
        },
        "id": "Ox-5U9mkC-5Y",
        "outputId": "1a1bce1f-6258-426e-9d92-8f9439776207"
      },
      "execution_count": null,
      "outputs": [
        {
          "output_type": "execute_result",
          "data": {
            "text/plain": [
              "'30'"
            ],
            "application/vnd.google.colaboratory.intrinsic+json": {
              "type": "string"
            }
          },
          "metadata": {},
          "execution_count": 58
        }
      ]
    },
    {
      "cell_type": "code",
      "source": [
        "#float\n",
        "float(22)"
      ],
      "metadata": {
        "colab": {
          "base_uri": "https://localhost:8080/"
        },
        "id": "PX0BhEeMDGIk",
        "outputId": "614f7d1c-0370-4445-8a90-3e7ab039b054"
      },
      "execution_count": null,
      "outputs": [
        {
          "output_type": "execute_result",
          "data": {
            "text/plain": [
              "22.0"
            ]
          },
          "metadata": {},
          "execution_count": 59
        }
      ]
    },
    {
      "cell_type": "code",
      "source": [
        "#STRINGS\n",
        "\n",
        "nombre_usuario = \"Carlos\"\n",
        "\n",
        "print( nombre_usuario)\n",
        "\n",
        "#length --> devuelve la cantidad de caracteres que tiene un string\n",
        "print(len(nombre_usuario))"
      ],
      "metadata": {
        "colab": {
          "base_uri": "https://localhost:8080/"
        },
        "id": "KkLZf9psDy1N",
        "outputId": "a5ab5190-3ac2-4f35-d843-632b2d1ac493"
      },
      "execution_count": 13,
      "outputs": [
        {
          "output_type": "stream",
          "name": "stdout",
          "text": [
            "Carlos\n",
            "6\n"
          ]
        }
      ]
    }
  ]
}
