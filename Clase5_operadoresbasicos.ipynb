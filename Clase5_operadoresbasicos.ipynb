{
  "nbformat": 4,
  "nbformat_minor": 0,
  "metadata": {
    "colab": {
      "provenance": [],
      "authorship_tag": "ABX9TyMMWIDpXFcTVioX/DkOs4wP",
      "include_colab_link": true
    },
    "kernelspec": {
      "name": "python3",
      "display_name": "Python 3"
    },
    "language_info": {
      "name": "python"
    }
  },
  "cells": [
    {
      "cell_type": "markdown",
      "metadata": {
        "id": "view-in-github",
        "colab_type": "text"
      },
      "source": [
        "<a href=\"https://colab.research.google.com/github/pupefrosi/Pythonschool/blob/main/Clase4_operadoresbasicos.ipynb\" target=\"_parent\"><img src=\"https://colab.research.google.com/assets/colab-badge.svg\" alt=\"Open In Colab\"/></a>"
      ]
    },
    {
      "cell_type": "code",
      "execution_count": null,
      "metadata": {
        "id": "BBBXhVQazwVA"
      },
      "outputs": [],
      "source": [
        "#OPERADORES BASICOS Y EXPRESIONES ANIDADAS\n",
        "\n",
        "#son operadores aritmeticos, de asignacion (=),operadores logicos.\n",
        "\n",
        "#OPERADORES RELACIONALES\n",
        "#para comparar o comprobar la relacion entre dos valores. la relacion a responder ya esta definida\n",
        "#el resultado de la comparacion sera un booleano: verdadero o falso por ejemplo\n"
      ]
    },
    {
      "cell_type": "code",
      "source": [
        "#IGUALDAD\n",
        "#va a comparar si el primer valor es igual al segundo.\n",
        "# se designa como ==\n",
        "\n",
        "print( 20 == 20)"
      ],
      "metadata": {
        "colab": {
          "base_uri": "https://localhost:8080/"
        },
        "id": "5yIcfSGS3fv4",
        "outputId": "24be4fa2-f0ad-43da-c0f2-26ca6e8a939b"
      },
      "execution_count": 1,
      "outputs": [
        {
          "output_type": "stream",
          "name": "stdout",
          "text": [
            "True\n"
          ]
        }
      ]
    },
    {
      "cell_type": "code",
      "source": [
        "print( 30 == 10)"
      ],
      "metadata": {
        "colab": {
          "base_uri": "https://localhost:8080/"
        },
        "id": "IRnBi6nw4O5_",
        "outputId": "4e760b39-8cf5-426c-f6ae-8ef9b1d9860a"
      },
      "execution_count": 2,
      "outputs": [
        {
          "output_type": "stream",
          "name": "stdout",
          "text": [
            "False\n"
          ]
        }
      ]
    },
    {
      "cell_type": "code",
      "source": [
        "print(20+20 == 40)"
      ],
      "metadata": {
        "colab": {
          "base_uri": "https://localhost:8080/"
        },
        "id": "cFh2Mds24YKr",
        "outputId": "56ee3ee8-7713-4539-c510-2a97c61f1a17"
      },
      "execution_count": 3,
      "outputs": [
        {
          "output_type": "stream",
          "name": "stdout",
          "text": [
            "True\n"
          ]
        }
      ]
    },
    {
      "cell_type": "code",
      "source": [
        "print(30-20 == 30+10)"
      ],
      "metadata": {
        "colab": {
          "base_uri": "https://localhost:8080/"
        },
        "id": "B-FSGs_J4evO",
        "outputId": "8e595856-8d9e-42f2-db98-defde11c6f48"
      },
      "execution_count": 6,
      "outputs": [
        {
          "output_type": "stream",
          "name": "stdout",
          "text": [
            "False\n"
          ]
        }
      ]
    },
    {
      "cell_type": "code",
      "source": [
        "#la comparacion por mas que sea igual, distingue mayus de minus\n",
        "print(\"Juan\" == \"juan\")"
      ],
      "metadata": {
        "colab": {
          "base_uri": "https://localhost:8080/"
        },
        "id": "av5B_81852Xy",
        "outputId": "e7eae915-dedb-4c16-a953-b1c13c1dcec1"
      },
      "execution_count": 7,
      "outputs": [
        {
          "output_type": "stream",
          "name": "stdout",
          "text": [
            "False\n"
          ]
        }
      ]
    },
    {
      "cell_type": "code",
      "source": [
        "#El espacio es un caracter por lo cual no es igual.\n",
        "print(\"Ramon\"==\"Ramon \")"
      ],
      "metadata": {
        "colab": {
          "base_uri": "https://localhost:8080/"
        },
        "id": "L0twPubU596a",
        "outputId": "c912d5be-7f05-4e20-b4e8-cceb554f2672"
      },
      "execution_count": 8,
      "outputs": [
        {
          "output_type": "stream",
          "name": "stdout",
          "text": [
            "False\n"
          ]
        }
      ]
    },
    {
      "cell_type": "code",
      "source": [
        "#por mas que sean los mismos valores, son distintos tipos de datos.\n",
        "\n",
        "print(30 == \"30\")"
      ],
      "metadata": {
        "colab": {
          "base_uri": "https://localhost:8080/"
        },
        "id": "Km1mzkfO6ePE",
        "outputId": "5341065f-5a33-4c74-9802-f2a2aa022048"
      },
      "execution_count": 9,
      "outputs": [
        {
          "output_type": "stream",
          "name": "stdout",
          "text": [
            "False\n"
          ]
        }
      ]
    },
    {
      "cell_type": "code",
      "source": [
        "#OPERADOR MAYOR\n",
        "# SE RECONOCE POR EL SIGNO > (BOCA APUNTANDO A LA IZQUIERDA APUNTA AL MAYOR\n",
        "#no se comparan los string porque se compara el valor de la letra en si\n",
        "\n",
        "print(50>45)"
      ],
      "metadata": {
        "colab": {
          "base_uri": "https://localhost:8080/"
        },
        "id": "-jvbA5SE7hE4",
        "outputId": "5347e497-2459-4b8d-8d25-4e179527d2c6"
      },
      "execution_count": 10,
      "outputs": [
        {
          "output_type": "stream",
          "name": "stdout",
          "text": [
            "True\n"
          ]
        }
      ]
    },
    {
      "cell_type": "code",
      "source": [
        "print(20 + 55 > 80 - 10)"
      ],
      "metadata": {
        "colab": {
          "base_uri": "https://localhost:8080/"
        },
        "id": "64AyhqUX79Sw",
        "outputId": "8989af86-d591-4292-8be1-fd4d202dab2b"
      },
      "execution_count": 11,
      "outputs": [
        {
          "output_type": "stream",
          "name": "stdout",
          "text": [
            "True\n"
          ]
        }
      ]
    },
    {
      "cell_type": "code",
      "source": [
        "print(10+30*2 > 60+20)"
      ],
      "metadata": {
        "colab": {
          "base_uri": "https://localhost:8080/"
        },
        "id": "7khYzsCP8IE7",
        "outputId": "9e93b0bc-5462-4c3d-8bb2-d7820dcf8751"
      },
      "execution_count": 12,
      "outputs": [
        {
          "output_type": "stream",
          "name": "stdout",
          "text": [
            "False\n"
          ]
        }
      ]
    },
    {
      "cell_type": "code",
      "source": [
        "print(90>90)"
      ],
      "metadata": {
        "colab": {
          "base_uri": "https://localhost:8080/"
        },
        "id": "Culp3HMY8d4R",
        "outputId": "93765680-d427-4f94-b70a-2762ae211141"
      },
      "execution_count": 13,
      "outputs": [
        {
          "output_type": "stream",
          "name": "stdout",
          "text": [
            "False\n"
          ]
        }
      ]
    },
    {
      "cell_type": "code",
      "source": [
        "#OPERADOR MENOR\n",
        "#SE DESIGNA CON EL SIMBOLO < (OPUESTO AL ANTERIOR)\n",
        "print( 67 < 76)"
      ],
      "metadata": {
        "colab": {
          "base_uri": "https://localhost:8080/"
        },
        "id": "hRx0NOoS85zP",
        "outputId": "e634ee05-1fda-4a2b-aa3e-03f4f6edc361"
      },
      "execution_count": 14,
      "outputs": [
        {
          "output_type": "stream",
          "name": "stdout",
          "text": [
            "True\n"
          ]
        }
      ]
    },
    {
      "cell_type": "code",
      "source": [
        "print( 90 < 88)"
      ],
      "metadata": {
        "colab": {
          "base_uri": "https://localhost:8080/"
        },
        "id": "1Nfny1iE9b6F",
        "outputId": "2b7119cd-ba48-454d-af37-f25234aefa00"
      },
      "execution_count": 15,
      "outputs": [
        {
          "output_type": "stream",
          "name": "stdout",
          "text": [
            "False\n"
          ]
        }
      ]
    },
    {
      "cell_type": "code",
      "source": [
        "print( 10 + 20 * 4 < 120)"
      ],
      "metadata": {
        "colab": {
          "base_uri": "https://localhost:8080/"
        },
        "id": "XOiC9D1_9itC",
        "outputId": "81896d07-6bd1-4279-bcac-7a733d79ff1d"
      },
      "execution_count": 16,
      "outputs": [
        {
          "output_type": "stream",
          "name": "stdout",
          "text": [
            "True\n"
          ]
        }
      ]
    },
    {
      "cell_type": "code",
      "source": [
        "#OPERADOR MAYOR O IGUAL >=\n",
        "#SIRVE PARA EL CASO QUE SEA EL PRIMERO MAYOR O IGUAL QUE EL SEGUNDO\n",
        "#SIRVE PARA MARCAR RANGOS\n",
        "\n",
        "print(90 >= 90)\n"
      ],
      "metadata": {
        "colab": {
          "base_uri": "https://localhost:8080/"
        },
        "id": "ySBUkkvh9vYY",
        "outputId": "0c83450f-770a-4f86-a51f-f15c83581d8a"
      },
      "execution_count": 17,
      "outputs": [
        {
          "output_type": "stream",
          "name": "stdout",
          "text": [
            "True\n"
          ]
        }
      ]
    },
    {
      "cell_type": "code",
      "source": [
        "print(55 >= 66)"
      ],
      "metadata": {
        "colab": {
          "base_uri": "https://localhost:8080/"
        },
        "id": "a_U4qkpM-Uqq",
        "outputId": "bd8910f7-21f3-4281-e35d-85f7c9534bfd"
      },
      "execution_count": 18,
      "outputs": [
        {
          "output_type": "stream",
          "name": "stdout",
          "text": [
            "False\n"
          ]
        }
      ]
    },
    {
      "cell_type": "code",
      "source": [
        "#OPERADOR MENOR O IGUAL <=\n",
        "\n",
        "print(40 <= 80)"
      ],
      "metadata": {
        "colab": {
          "base_uri": "https://localhost:8080/"
        },
        "id": "fD9e6mQ5-dcv",
        "outputId": "41f58e94-b38c-43cd-c41b-382a640ab9ed"
      },
      "execution_count": 19,
      "outputs": [
        {
          "output_type": "stream",
          "name": "stdout",
          "text": [
            "True\n"
          ]
        }
      ]
    },
    {
      "cell_type": "code",
      "source": [
        "print(88 <= 88)"
      ],
      "metadata": {
        "colab": {
          "base_uri": "https://localhost:8080/"
        },
        "id": "YxTqmRwL-ylN",
        "outputId": "9a34f5ec-d903-45aa-f934-5aab1a88893f"
      },
      "execution_count": 20,
      "outputs": [
        {
          "output_type": "stream",
          "name": "stdout",
          "text": [
            "True\n"
          ]
        }
      ]
    },
    {
      "cell_type": "code",
      "source": [
        "#DISTINTO O NOT EQUAL O NOT\n",
        "#ES LA NEGACION DE ALGO Y SE DISTINGUE CON EL SIGNO != (es la igualdad negada)\n",
        "\n",
        "print( 10 != 20)"
      ],
      "metadata": {
        "colab": {
          "base_uri": "https://localhost:8080/"
        },
        "id": "F41-gejM-9K6",
        "outputId": "c53b94b2-3f56-4fa6-8b75-94461685d007"
      },
      "execution_count": 21,
      "outputs": [
        {
          "output_type": "stream",
          "name": "stdout",
          "text": [
            "True\n"
          ]
        }
      ]
    },
    {
      "cell_type": "code",
      "source": [
        "print(\"Ramon\" != \"Marta\")"
      ],
      "metadata": {
        "colab": {
          "base_uri": "https://localhost:8080/"
        },
        "id": "rM7CA-qd_dzP",
        "outputId": "0a1e6d56-ec8f-4bbe-bc38-3f17cc179f12"
      },
      "execution_count": 22,
      "outputs": [
        {
          "output_type": "stream",
          "name": "stdout",
          "text": [
            "True\n"
          ]
        }
      ]
    },
    {
      "cell_type": "code",
      "source": [
        "#OPERADORES LOGICOS\n",
        "#Se usan para poder unir multiples relaciones.\n",
        "#tienen menor precedencia por lo que se verifica al ultimo despues que los otros operadores se resuelvan\n",
        "\n",
        "#AND --> Y O and - SIRVE PARA UNIR MAS DE UNA RELACION. AGRUPA LA RELACION O CONSTRUYE\n",
        "#PARA QUE RETORNE TRUE DEBE CUMPLIRSE AMBAS CONDICIONES. tienen que cumplirse en simultaneo\n",
        "\n",
        "print( 10<20 and 30> 15)"
      ],
      "metadata": {
        "colab": {
          "base_uri": "https://localhost:8080/"
        },
        "id": "OYi7IFsF_yDe",
        "outputId": "7a8877c6-ce7d-4ec4-f3d4-31dc711a9726"
      },
      "execution_count": 23,
      "outputs": [
        {
          "output_type": "stream",
          "name": "stdout",
          "text": [
            "True\n"
          ]
        }
      ]
    },
    {
      "cell_type": "code",
      "source": [
        "print(50== 40 and 10 > 5)"
      ],
      "metadata": {
        "colab": {
          "base_uri": "https://localhost:8080/"
        },
        "id": "Qv1JeQhlEhR3",
        "outputId": "628e8353-1b7c-49ac-87df-e49dcd632bec"
      },
      "execution_count": 24,
      "outputs": [
        {
          "output_type": "stream",
          "name": "stdout",
          "text": [
            "False\n"
          ]
        }
      ]
    },
    {
      "cell_type": "code",
      "source": [
        "print(\"Juan\" != \"Ramon\" and \"Marcos\" == \"Marcos\")"
      ],
      "metadata": {
        "colab": {
          "base_uri": "https://localhost:8080/"
        },
        "id": "syzlYeIiFZH7",
        "outputId": "74200160-bed7-4b3f-95c4-751e1cf287ba"
      },
      "execution_count": 25,
      "outputs": [
        {
          "output_type": "stream",
          "name": "stdout",
          "text": [
            "True\n"
          ]
        }
      ]
    },
    {
      "cell_type": "code",
      "source": [
        "print( 100 > 99 and \"Pedro\"!= \"Marcelo\" and 90-20 > 70)\n",
        "#en este caso se resuelve el primer par y luego el resultado de los dos primeros se compara con el siguiente.\n"
      ],
      "metadata": {
        "colab": {
          "base_uri": "https://localhost:8080/"
        },
        "id": "Wlj0AweEFw-c",
        "outputId": "d5861911-bccb-41e6-f6b0-fab382dfd098"
      },
      "execution_count": 26,
      "outputs": [
        {
          "output_type": "stream",
          "name": "stdout",
          "text": [
            "False\n"
          ]
        }
      ]
    },
    {
      "cell_type": "code",
      "source": [
        "#OPERADOR O OR\n",
        "#SE DESIGNA COMO or\n",
        "#en este caso si se cumple uno u otro o ambos se torna verdadero.\n",
        "#ver tabla de la verdad.\n",
        "\"\"\"\n",
        "v+v=v\n",
        "v+f=v\n",
        "f+v=v\n",
        "f+f=f\n",
        "\"\"\"\n",
        "\n",
        "print(10!= 20 or 30==40)"
      ],
      "metadata": {
        "colab": {
          "base_uri": "https://localhost:8080/"
        },
        "id": "eadjFXYgGmkz",
        "outputId": "e3bc63d1-131a-4056-f7df-bc7732f3bf0a"
      },
      "execution_count": 27,
      "outputs": [
        {
          "output_type": "stream",
          "name": "stdout",
          "text": [
            "True\n"
          ]
        }
      ]
    },
    {
      "cell_type": "code",
      "source": [
        "print(\"Marta\" == \"Marta\" or \"Juan\" != \"Marcos\")"
      ],
      "metadata": {
        "colab": {
          "base_uri": "https://localhost:8080/"
        },
        "id": "8rdl4pqpHo8U",
        "outputId": "94d9f0ef-4c02-42dc-c414-83371fbca79d"
      },
      "execution_count": 28,
      "outputs": [
        {
          "output_type": "stream",
          "name": "stdout",
          "text": [
            "True\n"
          ]
        }
      ]
    },
    {
      "cell_type": "code",
      "source": [
        "#OPERADOR NOT\n",
        "#se suele usar en combinacion con otro de los operadores logicos. Negacion\n",
        "\n",
        "not True"
      ],
      "metadata": {
        "colab": {
          "base_uri": "https://localhost:8080/"
        },
        "id": "v9sUqvr_H7ab",
        "outputId": "e74ef89e-f203-4fde-b10f-bae930e6801f"
      },
      "execution_count": 29,
      "outputs": [
        {
          "output_type": "execute_result",
          "data": {
            "text/plain": [
              "False"
            ]
          },
          "metadata": {},
          "execution_count": 29
        }
      ]
    },
    {
      "cell_type": "code",
      "source": [
        "not 10 == 10"
      ],
      "metadata": {
        "colab": {
          "base_uri": "https://localhost:8080/"
        },
        "id": "C383bSI1Irc5",
        "outputId": "039f6cbf-b891-4d66-b83f-0c94cac1ab25"
      },
      "execution_count": 30,
      "outputs": [
        {
          "output_type": "execute_result",
          "data": {
            "text/plain": [
              "False"
            ]
          },
          "metadata": {},
          "execution_count": 30
        }
      ]
    },
    {
      "cell_type": "code",
      "source": [
        "#OPERADOR DE ASIGNACION =\n",
        "\n",
        "num_a = 30\n",
        "\n",
        "num_a = num_a + 10\n",
        "print(num_a)"
      ],
      "metadata": {
        "colab": {
          "base_uri": "https://localhost:8080/"
        },
        "id": "yXvov5xJJMH9",
        "outputId": "a7fb7335-9939-428a-ba94-3c79edb9f424"
      },
      "execution_count": 32,
      "outputs": [
        {
          "output_type": "stream",
          "name": "stdout",
          "text": [
            "40\n"
          ]
        }
      ]
    },
    {
      "cell_type": "code",
      "source": [
        "#suma en asignacion += (es lo mismo que el anterior pero nos ahorramos el paso de variable nueva)\n",
        "\n",
        "num_b = 20\n",
        "\n",
        "num_b += 10\n",
        "print(num_b)"
      ],
      "metadata": {
        "colab": {
          "base_uri": "https://localhost:8080/"
        },
        "id": "VkgrsupnJlMr",
        "outputId": "c4cde7ed-9329-4d0a-8a4f-a280547a10f7"
      },
      "execution_count": 33,
      "outputs": [
        {
          "output_type": "stream",
          "name": "stdout",
          "text": [
            "30\n"
          ]
        }
      ]
    },
    {
      "cell_type": "code",
      "source": [
        "#resta en asignacion\n",
        "\n",
        "num_c = 50\n",
        "num_c -= 22\n",
        "\n",
        "print(num_c)"
      ],
      "metadata": {
        "colab": {
          "base_uri": "https://localhost:8080/"
        },
        "id": "GBnN27zIJ4qq",
        "outputId": "1b49c675-9a37-4db7-e2c7-580834ed2e2a"
      },
      "execution_count": 34,
      "outputs": [
        {
          "output_type": "stream",
          "name": "stdout",
          "text": [
            "28\n"
          ]
        }
      ]
    }
  ]
}
