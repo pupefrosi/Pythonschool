{
  "nbformat": 4,
  "nbformat_minor": 0,
  "metadata": {
    "colab": {
      "provenance": [],
      "authorship_tag": "ABX9TyOou7e7sebwlUu15E3DWrRl",
      "include_colab_link": true
    },
    "kernelspec": {
      "name": "python3",
      "display_name": "Python 3"
    },
    "language_info": {
      "name": "python"
    }
  },
  "cells": [
    {
      "cell_type": "markdown",
      "metadata": {
        "id": "view-in-github",
        "colab_type": "text"
      },
      "source": [
        "<a href=\"https://colab.research.google.com/github/pupefrosi/Pythonschool/blob/main/Clase4_metodosdecolecciones.ipynb\" target=\"_parent\"><img src=\"https://colab.research.google.com/assets/colab-badge.svg\" alt=\"Open In Colab\"/></a>"
      ]
    },
    {
      "cell_type": "code",
      "execution_count": 4,
      "metadata": {
        "id": "lHNmkVvdgi5h"
      },
      "outputs": [],
      "source": [
        "#METODOS DE COLECCIONES\n",
        "#son funcionalidades para los distintos tipos de datos.\n",
        "\n",
        "#METODOS DE STRINGS\n",
        "#comienzan y terminan con comillas, encerrando caracteres\n",
        "#Recordar que los strings son inmutables por lo que al momento de generar una modificacion, se duplica el string.\n",
        "\n",
        "stringUno = \"Juan carlos\""
      ]
    },
    {
      "cell_type": "code",
      "source": [
        "#UPPER\n",
        "\n",
        "#metodo que toma el string y retorna un nuevo string en Mayusculas. retorna asi un segundo string\n",
        "\n",
        "resultado = stringUno.upper()\n",
        "print(\"Upper: \", resultado)"
      ],
      "metadata": {
        "colab": {
          "base_uri": "https://localhost:8080/"
        },
        "id": "xVFKY-nGmWOT",
        "outputId": "4a29a082-88c3-4029-dc80-7f7e2ccc9c41"
      },
      "execution_count": 5,
      "outputs": [
        {
          "output_type": "stream",
          "name": "stdout",
          "text": [
            "Upper:  JUAN CARLOS\n"
          ]
        }
      ]
    },
    {
      "cell_type": "code",
      "source": [
        "#LOWER\n",
        "#Toma al string original, lo duplica y lo vuelve todo en minuscula.\n",
        "\n",
        "print(\"Lower: \", stringUno.lower())"
      ],
      "metadata": {
        "colab": {
          "base_uri": "https://localhost:8080/"
        },
        "id": "5WzUuB4lneAW",
        "outputId": "0b21dc5a-bf22-488c-dca2-5eb4d999c8be"
      },
      "execution_count": 6,
      "outputs": [
        {
          "output_type": "stream",
          "name": "stdout",
          "text": [
            "Lower:  juan carlos\n"
          ]
        }
      ]
    },
    {
      "cell_type": "code",
      "source": [
        "#CAPITALIZE\n",
        "#transforma la primer letra en mayuscula y el resto en minuscula.\n",
        "\n",
        "print(\"Capitalize: \", stringUno.capitalize())"
      ],
      "metadata": {
        "colab": {
          "base_uri": "https://localhost:8080/"
        },
        "id": "1PcfgcxoocTb",
        "outputId": "5055a844-dfd2-4ed2-8779-c14e30ba2343"
      },
      "execution_count": 7,
      "outputs": [
        {
          "output_type": "stream",
          "name": "stdout",
          "text": [
            "Capitalize:  Juan carlos\n"
          ]
        }
      ]
    },
    {
      "cell_type": "code",
      "source": [
        "#TITLE\n",
        "\n",
        "#retorna un string con cada primera letra en mayuscula.\n",
        "\n",
        "print(\"Title: \", stringUno.title())"
      ],
      "metadata": {
        "colab": {
          "base_uri": "https://localhost:8080/"
        },
        "id": "oiXYzDP0pHaQ",
        "outputId": "53a5e67b-7445-4f92-b508-655e897e0af0"
      },
      "execution_count": 8,
      "outputs": [
        {
          "output_type": "stream",
          "name": "stdout",
          "text": [
            "Title:  Juan Carlos\n"
          ]
        }
      ]
    },
    {
      "cell_type": "code",
      "source": [
        "#FIND\n",
        "\n",
        "#encontrar o buscar en strings permite buscar la primer ocurrencia de un valor especifico en un string.\n",
        "#indica en que indice se encuentra el valor. primer ocurrencia dentro del string.\n",
        "#-1 indica que no se encontro el valor solicitado\n",
        "print(\"Resultado Find: \", stringUno.find(\"a\"))"
      ],
      "metadata": {
        "colab": {
          "base_uri": "https://localhost:8080/"
        },
        "id": "7w613R3MrRkE",
        "outputId": "61e325f6-914b-4699-cfeb-186b8b12dc0b"
      },
      "execution_count": 9,
      "outputs": [
        {
          "output_type": "stream",
          "name": "stdout",
          "text": [
            "Resultado Find:  2\n"
          ]
        }
      ]
    },
    {
      "cell_type": "code",
      "source": [
        "#RFIND\n",
        "#me devuelve la ultima ocurrencia que encuentra del valor solicitado respecto al string\n",
        "\n",
        "print(\"Resultado RFind: \", stringUno.rfind(\"a\"))"
      ],
      "metadata": {
        "colab": {
          "base_uri": "https://localhost:8080/"
        },
        "id": "YUivVKvBsibD",
        "outputId": "c36422c9-d0c0-4a7a-cbeb-22ec5960f61a"
      },
      "execution_count": 10,
      "outputs": [
        {
          "output_type": "stream",
          "name": "stdout",
          "text": [
            "Resultado RFind:  6\n"
          ]
        }
      ]
    },
    {
      "cell_type": "code",
      "source": [
        "#SPLIT\n",
        "#divide el sprint en una lista super util. por ejemplo una lista csv.\n",
        "#string.split(separator)\n",
        "print(\"Split: \", stringUno.split())"
      ],
      "metadata": {
        "colab": {
          "base_uri": "https://localhost:8080/"
        },
        "id": "_KryvPyztPPs",
        "outputId": "e796e45d-49a0-4e7b-dd6a-99bb0bee111f"
      },
      "execution_count": 11,
      "outputs": [
        {
          "output_type": "stream",
          "name": "stdout",
          "text": [
            "Split:  ['Juan', 'carlos']\n"
          ]
        }
      ]
    },
    {
      "cell_type": "code",
      "source": [
        "#ejemplo de separacion en split con un valor.\n",
        "\n",
        "stringRandom = \"El chico y la chica y el perro y el gato y el raton\"\n",
        "\n",
        "print(\"Split 2: \", stringRandom.split(\" y \"))"
      ],
      "metadata": {
        "colab": {
          "base_uri": "https://localhost:8080/"
        },
        "id": "XIdgRxCduBv0",
        "outputId": "4e15501b-37aa-48b8-f449-650330dbc66f"
      },
      "execution_count": 12,
      "outputs": [
        {
          "output_type": "stream",
          "name": "stdout",
          "text": [
            "Split 2:  ['El chico', 'la chica', 'el perro', 'el gato', 'el raton']\n"
          ]
        }
      ]
    },
    {
      "cell_type": "code",
      "source": [
        "#JOIN\n",
        "#metodo que une y hace lo inverso a Split.\n",
        "#toma todos los elementos iterables de una lista(iterables) y los une en un string.\n",
        "#nos permite trabajar con el texto individualmente que como lista. Sirve para la manipulacion de archivos.\n",
        "\n",
        "resultado = \"*\".join([\"Juan\", \"Pedro\", \"Ramon\"])\n",
        "#el * sirve como separador o de union entre los elementos de la lista. tambien puede ser separado por , o espacio por ej.\n",
        "\n",
        "print(resultado)"
      ],
      "metadata": {
        "colab": {
          "base_uri": "https://localhost:8080/"
        },
        "id": "m8S1jQXfufQF",
        "outputId": "ca4fc78a-2188-4c34-d4a5-1f14358115df"
      },
      "execution_count": 13,
      "outputs": [
        {
          "output_type": "stream",
          "name": "stdout",
          "text": [
            "Juan*Pedro*Ramon\n"
          ]
        }
      ]
    },
    {
      "cell_type": "code",
      "source": [
        "resultado = \" \".join([\"Juan\", \"Pedro\", \"Ramon\"])\n",
        "print(resultado)"
      ],
      "metadata": {
        "id": "AZM5Y7rCvggF",
        "colab": {
          "base_uri": "https://localhost:8080/"
        },
        "outputId": "af531a0e-22e5-45bd-91c8-ed735a7bc333"
      },
      "execution_count": 14,
      "outputs": [
        {
          "output_type": "stream",
          "name": "stdout",
          "text": [
            "Juan Pedro Ramon\n"
          ]
        }
      ]
    },
    {
      "cell_type": "code",
      "source": [
        "#STRIP\n",
        "\n",
        "#es util para eliminar espacios. es para la inyeccion en SQL es basico para eliminar espacios\n",
        "# elimina el espacio delante  y detras del string pero no los que estan dentro del texto.\n",
        "#muy util para no llenar la base de datos de basura.\n",
        "\n",
        "stringRandom = \"                  HOLA                  \"\n",
        "print(\"STRIP: \", stringRandom.strip())\n",
        "\n",
        "stringRandom1 = \"                  HOLA JOSE                  \"\n",
        "print(\"STRIP: \", stringRandom1.strip())"
      ],
      "metadata": {
        "colab": {
          "base_uri": "https://localhost:8080/"
        },
        "id": "5Xt-Q-RxM9cW",
        "outputId": "c11f894b-f3e1-490d-b6c9-44b904677fd7"
      },
      "execution_count": 15,
      "outputs": [
        {
          "output_type": "stream",
          "name": "stdout",
          "text": [
            "STRIP:  HOLA\n",
            "STRIP:  HOLA JOSE\n"
          ]
        }
      ]
    },
    {
      "cell_type": "code",
      "source": [
        "#REPLACE\n",
        "\n",
        "#reemplaza un valor por otro valor que yo quiera. o si quiero eliminar alguna palabra que no quiera o errores gramaticales, etc.\n",
        "#en el primer valor coloco lo que quiero reemplazar y en el segundo valor, lo que quiero colocar en ese reemplazo.\n",
        "\n",
        "stringRandom = \"El chico y la chica y el perro y el gato y el raton\"\n",
        "print(\"REPLACE: \", stringRandom.replace(\" y\", \",\"))"
      ],
      "metadata": {
        "colab": {
          "base_uri": "https://localhost:8080/"
        },
        "id": "OmJpjWY-OLC5",
        "outputId": "e3d37621-1071-4bcd-d6ad-401d0d51e522"
      },
      "execution_count": 16,
      "outputs": [
        {
          "output_type": "stream",
          "name": "stdout",
          "text": [
            "REPLACE:  El chico, la chica, el perro, el gato, el raton\n"
          ]
        }
      ]
    },
    {
      "cell_type": "code",
      "source": [
        "#METODOS DE LISTAS\n",
        "\n",
        "listaUno = [6,12,77,23,9,10,44]\n",
        "\n",
        "listaDos = [\"Rojo\", \"Verde\", \"Azul\"]"
      ],
      "metadata": {
        "id": "UC8_ft8RPl1q"
      },
      "execution_count": 17,
      "outputs": []
    },
    {
      "cell_type": "code",
      "source": [
        "#EXTEND\n",
        "\n",
        "#sirve para extender una lista\n",
        "#debemos tener en cuenta que la union altera la lista original a la cual le aplicamos el extend\n",
        "\n",
        "listaUno.extend(listaDos)\n",
        "print(listaUno)"
      ],
      "metadata": {
        "colab": {
          "base_uri": "https://localhost:8080/"
        },
        "id": "DeHaj4JiTHm_",
        "outputId": "56569ac6-605b-4462-baa0-c1bf5bc5949e"
      },
      "execution_count": 18,
      "outputs": [
        {
          "output_type": "stream",
          "name": "stdout",
          "text": [
            "[6, 12, 77, 23, 9, 10, 44, 'Rojo', 'Verde', 'Azul']\n"
          ]
        }
      ]
    },
    {
      "cell_type": "code",
      "source": [
        "#REVERSE\n",
        "\n",
        "#da vuelta el orden de la lista. este tambien altera el resultado a la variable original\n",
        "\n",
        "listaUno.reverse()\n",
        "print(listaUno)"
      ],
      "metadata": {
        "colab": {
          "base_uri": "https://localhost:8080/"
        },
        "id": "E-u7wxL0TzDB",
        "outputId": "33b436ef-a89f-4012-f986-4a1deed804e5"
      },
      "execution_count": 19,
      "outputs": [
        {
          "output_type": "stream",
          "name": "stdout",
          "text": [
            "['Azul', 'Verde', 'Rojo', 44, 10, 9, 23, 77, 12, 6]\n"
          ]
        }
      ]
    },
    {
      "cell_type": "code",
      "source": [
        "#SORT\n",
        "\n",
        "#metodo para ordenar listas. es util con numeros pero con strings hay que tener cuidado.\n",
        "#de igual manera se puede aplicar una logica para ordenar.}\n",
        "#tambien altera el original\n",
        "\n",
        "listaTres = [6,12,77,23,9,10,44]\n",
        "listaTres.sort()\n",
        "print(listaTres)"
      ],
      "metadata": {
        "colab": {
          "base_uri": "https://localhost:8080/"
        },
        "id": "C8sTF_GdUMRc",
        "outputId": "c08e42e4-9b6e-4fa1-aa9b-ab9967a382a1"
      },
      "execution_count": 20,
      "outputs": [
        {
          "output_type": "stream",
          "name": "stdout",
          "text": [
            "[6, 9, 10, 12, 23, 44, 77]\n"
          ]
        }
      ]
    },
    {
      "cell_type": "code",
      "source": [
        "#si queremos ordenar de manera descendente le agregamos dentro del parentesis reverse=True\n",
        "\n",
        "listaTres.sort(reverse=True)\n",
        "print(listaTres)"
      ],
      "metadata": {
        "colab": {
          "base_uri": "https://localhost:8080/"
        },
        "id": "d8F0vvT5U3M-",
        "outputId": "c700d468-ddb8-478a-c516-dafe5de0d043"
      },
      "execution_count": 21,
      "outputs": [
        {
          "output_type": "stream",
          "name": "stdout",
          "text": [
            "[77, 44, 23, 12, 10, 9, 6]\n"
          ]
        }
      ]
    },
    {
      "cell_type": "code",
      "source": [
        "#METODOS SET\n",
        "\n",
        "#COPY\n",
        "set1 = {3,4,5}\n",
        "set2 = set1.copy()\n",
        "#set2 = set1 esta mal hacerlo!! por eso sirve copy, asi se copia la lista.\n",
        "print(set2)"
      ],
      "metadata": {
        "colab": {
          "base_uri": "https://localhost:8080/"
        },
        "id": "bC5GLzk2VKUY",
        "outputId": "246624c7-a2f2-4216-b3df-d5abe2c3626b"
      },
      "execution_count": 22,
      "outputs": [
        {
          "output_type": "stream",
          "name": "stdout",
          "text": [
            "{3, 4, 5}\n"
          ]
        }
      ]
    },
    {
      "cell_type": "code",
      "source": [
        "set3 = {3,4,5,6}\n",
        "set4 = {1,2,3,4}\n",
        "\n",
        "#ISDISJOINT\n",
        "\n",
        "#retorna verdadero cuando ninguno de los elementos se encuentra en el segundo\n",
        "#si es falso, quiere decir que comparten datos\n",
        "\n",
        "print(\"IS DISJOINT: \", set1.isdisjoint(set3))"
      ],
      "metadata": {
        "colab": {
          "base_uri": "https://localhost:8080/"
        },
        "id": "VeOAPTKVVnGq",
        "outputId": "1be2e16e-cb37-4ad9-8e65-aa5bd46dcd5a"
      },
      "execution_count": 23,
      "outputs": [
        {
          "output_type": "stream",
          "name": "stdout",
          "text": [
            "IS DISJOINT:  False\n"
          ]
        }
      ]
    },
    {
      "cell_type": "code",
      "source": [
        "#ejemplo cuando es verdadero\n",
        "set5 = {6,9,19}\n",
        "set6 = {1,2,3,4}\n",
        "\n",
        "print(\"IS DISJOINT: \", set5.isdisjoint(set6))"
      ],
      "metadata": {
        "colab": {
          "base_uri": "https://localhost:8080/"
        },
        "id": "kZ9zyHvZWzzP",
        "outputId": "ea001ad0-bb02-4ac0-e880-7102192da8fb"
      },
      "execution_count": 24,
      "outputs": [
        {
          "output_type": "stream",
          "name": "stdout",
          "text": [
            "IS DISJOINT:  True\n"
          ]
        }
      ]
    },
    {
      "cell_type": "code",
      "source": [
        "#ISSUBSET\n",
        "\n",
        "#sirve para comprobar dos set si tienen datos en comun o dentro uno del otro.\n",
        "#es util para data. retorna verdadero si todos los elementos del primero existen en el segundo\n",
        "\n",
        "print(\"SUBSET: \", set1.issubset(set4))\n",
        "print(\"SUBSET: \", set4.issubset(set1))\n",
        "print(\"SUBSET: \", set1.issubset(set3))"
      ],
      "metadata": {
        "colab": {
          "base_uri": "https://localhost:8080/"
        },
        "id": "-xcvZRK3T38C",
        "outputId": "ff655c04-a220-4eeb-88cb-d818a367f722"
      },
      "execution_count": 27,
      "outputs": [
        {
          "output_type": "stream",
          "name": "stdout",
          "text": [
            "SUBSET:  False\n",
            "SUBSET:  False\n",
            "SUBSET:  True\n"
          ]
        }
      ]
    },
    {
      "cell_type": "code",
      "source": [
        "#ISSUPERSET\n",
        "\n",
        "print(\"ISSUPERSET: \", set1.issuperset(set4))\n",
        "print(\"ISSUPERSET: \", set4.issuperset(set1))\n"
      ],
      "metadata": {
        "colab": {
          "base_uri": "https://localhost:8080/"
        },
        "id": "cv_f88vwUiDt",
        "outputId": "27777cac-0151-4e18-af35-11f812b5a7c0"
      },
      "execution_count": 29,
      "outputs": [
        {
          "output_type": "stream",
          "name": "stdout",
          "text": [
            "ISSUPERSET:  False\n",
            "ISSUPERSET:  False\n"
          ]
        }
      ]
    },
    {
      "cell_type": "code",
      "source": [
        "#UNION\n",
        "\n",
        "print(\"UNION: \", set1.union(set3))"
      ],
      "metadata": {
        "colab": {
          "base_uri": "https://localhost:8080/"
        },
        "id": "iwiveDcvWJHm",
        "outputId": "637746f7-7108-4d89-b01e-f50c470566ab"
      },
      "execution_count": 30,
      "outputs": [
        {
          "output_type": "stream",
          "name": "stdout",
          "text": [
            "UNION:  {3, 4, 5, 6}\n"
          ]
        }
      ]
    },
    {
      "cell_type": "code",
      "source": [
        "#DIFFERENCE\n",
        "\n",
        "#indica diferencia de set en lo que no comparten\n",
        "print(\"DIFFERENCE: \", set1.difference(set3))\n",
        "#si no tiene diferencia, devuelve el set vacio\n",
        "print(\"DIFFERENCE: \", set1.difference(set4))"
      ],
      "metadata": {
        "colab": {
          "base_uri": "https://localhost:8080/"
        },
        "id": "ezOr7peTZEvU",
        "outputId": "21366c34-b9b1-4b7f-d3ad-4442527d2f65"
      },
      "execution_count": 32,
      "outputs": [
        {
          "output_type": "stream",
          "name": "stdout",
          "text": [
            "DIFFERENCE:  set()\n",
            "DIFFERENCE:  {5}\n"
          ]
        }
      ]
    }
  ]
}