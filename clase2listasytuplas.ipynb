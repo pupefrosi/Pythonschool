{
  "nbformat": 4,
  "nbformat_minor": 0,
  "metadata": {
    "colab": {
      "provenance": [],
      "authorship_tag": "ABX9TyNd5vAKWyo4nGzw7ijvpKso",
      "include_colab_link": true
    },
    "kernelspec": {
      "name": "python3",
      "display_name": "Python 3"
    },
    "language_info": {
      "name": "python"
    }
  },
  "cells": [
    {
      "cell_type": "markdown",
      "metadata": {
        "id": "view-in-github",
        "colab_type": "text"
      },
      "source": [
        "<a href=\"https://colab.research.google.com/github/pupefrosi/Pythonschool/blob/main/clase2listasytuplas.ipynb\" target=\"_parent\"><img src=\"https://colab.research.google.com/assets/colab-badge.svg\" alt=\"Open In Colab\"/></a>"
      ]
    },
    {
      "cell_type": "code",
      "execution_count": 12,
      "metadata": {
        "colab": {
          "base_uri": "https://localhost:8080/"
        },
        "id": "vsD1LKIMfva1",
        "outputId": "7e2ee380-140e-4a0f-d84f-32a5a8ac248d"
      },
      "outputs": [
        {
          "output_type": "stream",
          "name": "stdout",
          "text": [
            "['Rojo', 'Azul', 'Verde', 'Amarillo', 30]\n"
          ]
        }
      ],
      "source": [
        "#LISTAS Y TUPLAS\n",
        "#son un tipo de estructuras de datos. Tambien conocidas como arreglos\n",
        "\n",
        "#LISTA\n",
        "#Se denominan con [] y pueden estar vacias o no.\n",
        "#Las listas pueden ser heterogeneas. Pueden contener cualquier cosa.\n",
        "\n",
        "colores = [\"Rojo\", \"Azul\", \"Verde\", \"Amarillo\", 30]\n",
        "print(colores)"
      ]
    },
    {
      "cell_type": "code",
      "source": [
        "#INDEX\n",
        "#Las listas con indexadas. Porque puedo saber en que orden exacto estan\n",
        "#los datos con un indice que inicia en 0. Es una estructura de datos ordenada.\n",
        "#Los elementos siempre van a estar siempre en la misma posicion.\n",
        "#cuando accedemos a la lista a traves del indice lo que recibimos es un string\n",
        "\n",
        "\n",
        "#ACCESO\n",
        "\n",
        "colores[0]"
      ],
      "metadata": {
        "colab": {
          "base_uri": "https://localhost:8080/",
          "height": 36
        },
        "id": "tjIUkE_7hrMY",
        "outputId": "b13945e2-4d57-479c-c7a1-f63887d52806"
      },
      "execution_count": 13,
      "outputs": [
        {
          "output_type": "execute_result",
          "data": {
            "text/plain": [
              "'Rojo'"
            ],
            "application/vnd.google.colaboratory.intrinsic+json": {
              "type": "string"
            }
          },
          "metadata": {},
          "execution_count": 13
        }
      ]
    },
    {
      "cell_type": "code",
      "source": [
        "colores[2]"
      ],
      "metadata": {
        "colab": {
          "base_uri": "https://localhost:8080/",
          "height": 36
        },
        "id": "jtx_cvrji0HA",
        "outputId": "54882fed-d15a-470b-8d40-5d150d6f6715"
      },
      "execution_count": 14,
      "outputs": [
        {
          "output_type": "execute_result",
          "data": {
            "text/plain": [
              "'Verde'"
            ],
            "application/vnd.google.colaboratory.intrinsic+json": {
              "type": "string"
            }
          },
          "metadata": {},
          "execution_count": 14
        }
      ]
    },
    {
      "cell_type": "code",
      "source": [
        "#Las listas son MUTABLES\n",
        "#no puedo agregar datos a una lista si no le asigno a que posicion\n",
        "#le voy a agregar un dato. no se puede asignar datos directamente.\n",
        "\n",
        "colores[4] = \"Violeta\"\n",
        "\n",
        "print(colores)"
      ],
      "metadata": {
        "colab": {
          "base_uri": "https://localhost:8080/"
        },
        "id": "lKDdZQPkj2s5",
        "outputId": "fec114fa-6115-4b52-fb3b-8075e5eed10e"
      },
      "execution_count": 15,
      "outputs": [
        {
          "output_type": "stream",
          "name": "stdout",
          "text": [
            "['Rojo', 'Azul', 'Verde', 'Amarillo', 'Violeta']\n"
          ]
        }
      ]
    },
    {
      "cell_type": "code",
      "source": [
        "#METODOS DE LISTAS\n",
        "\n",
        "#para agregar o quitar elementos usamos metodos.\n",
        "#se utilizan solo para las listas. y los metodos siempre van con ()\n",
        "\n",
        "#APPEND\n",
        "\n",
        "#agrego elementos a la lista. se pone la variable, el punto y al lado el\n",
        "#metodo. Dentro del parentesis, el elemento a agregar.\n",
        "\n",
        "colores.append(\"Naranja\")\n",
        "print(colores)"
      ],
      "metadata": {
        "colab": {
          "base_uri": "https://localhost:8080/"
        },
        "id": "zzmriA-Gkyi6",
        "outputId": "ca2d6402-a540-4374-fd05-0c0c736f697e"
      },
      "execution_count": 16,
      "outputs": [
        {
          "output_type": "stream",
          "name": "stdout",
          "text": [
            "['Rojo', 'Azul', 'Verde', 'Amarillo', 'Violeta', 'Naranja']\n"
          ]
        }
      ]
    },
    {
      "cell_type": "code",
      "source": [
        "#INSERT\n",
        "\n",
        "#permite agregar un elemento indicando a donde o en que indice quiero agregar el elemento\n",
        "#insert(index, valor)\n",
        "\n",
        "colores.insert( 1, \"Rosa\")\n",
        "print(colores)"
      ],
      "metadata": {
        "colab": {
          "base_uri": "https://localhost:8080/"
        },
        "id": "Tm1y3nB4momT",
        "outputId": "f1c0c23f-8f7f-4bec-dcb8-31358c94b38c"
      },
      "execution_count": 17,
      "outputs": [
        {
          "output_type": "stream",
          "name": "stdout",
          "text": [
            "['Rojo', 'Rosa', 'Azul', 'Verde', 'Amarillo', 'Violeta', 'Naranja']\n"
          ]
        }
      ]
    },
    {
      "cell_type": "code",
      "source": [
        "#POP\n",
        "\n",
        "#pop quita de la lista el elemento de la visual pero lo mantiene en suspenso\n",
        "#elimina el ultimo dato o elemento de la lista\n",
        "colores.pop()\n",
        "print(colores)"
      ],
      "metadata": {
        "colab": {
          "base_uri": "https://localhost:8080/"
        },
        "id": "h7WqEkI6oO-p",
        "outputId": "f7515645-8ff5-4e8b-e3c1-b59b49ab48c9"
      },
      "execution_count": 18,
      "outputs": [
        {
          "output_type": "stream",
          "name": "stdout",
          "text": [
            "['Rojo', 'Rosa', 'Azul', 'Verde', 'Amarillo', 'Violeta']\n"
          ]
        }
      ]
    },
    {
      "cell_type": "code",
      "source": [
        "#POP+INDEX\n",
        "\n",
        "#se puede indicar en el () el indice del elemento que quiero quitar\n",
        "\n",
        "colores.pop(1)\n",
        "print(colores)"
      ],
      "metadata": {
        "colab": {
          "base_uri": "https://localhost:8080/"
        },
        "id": "DY-fBjYDodAi",
        "outputId": "b75298a6-b7f7-4b37-e83b-235efa5f8c52"
      },
      "execution_count": 19,
      "outputs": [
        {
          "output_type": "stream",
          "name": "stdout",
          "text": [
            "['Rojo', 'Azul', 'Verde', 'Amarillo', 'Violeta']\n"
          ]
        }
      ]
    },
    {
      "cell_type": "code",
      "source": [
        "#ejemplo de dato quitado por pop, de que continua existiendo\n",
        "\n",
        "color_eliminado = colores.pop()\n",
        "print(colores)\n",
        "print(\"Se elimino el color: \", color_eliminado)"
      ],
      "metadata": {
        "colab": {
          "base_uri": "https://localhost:8080/"
        },
        "id": "Xpbnf9k0o3Wr",
        "outputId": "765eeead-e24a-4417-c30f-ea2940ebc16a"
      },
      "execution_count": 20,
      "outputs": [
        {
          "output_type": "stream",
          "name": "stdout",
          "text": [
            "['Rojo', 'Azul', 'Verde', 'Amarillo']\n",
            "Se elimino el color:  Violeta\n"
          ]
        }
      ]
    },
    {
      "cell_type": "code",
      "source": [
        "#COUNT\n",
        "\n",
        "#Sirve para hacer un conteo de los datos registrados en la lista.\n",
        "#la cantidad de ocurrencias en la lista. Cuantas veces esta un elemento en la lista.\n",
        "\n",
        "colores.count(\"Rojo\")"
      ],
      "metadata": {
        "colab": {
          "base_uri": "https://localhost:8080/"
        },
        "id": "CDpIV5iRpP6S",
        "outputId": "835f8872-1bc9-4732-c8ca-c6612d3a5d4d"
      },
      "execution_count": 23,
      "outputs": [
        {
          "output_type": "execute_result",
          "data": {
            "text/plain": [
              "1"
            ]
          },
          "metadata": {},
          "execution_count": 23
        }
      ]
    },
    {
      "cell_type": "code",
      "source": [
        "#Rosa me retorna 0 porque el elemento rosa fue eliminado de la lista anteriormente\n",
        "colores.count(\"Rosa\")"
      ],
      "metadata": {
        "colab": {
          "base_uri": "https://localhost:8080/"
        },
        "id": "9jDlWIiMps24",
        "outputId": "3cf83667-d5d7-4bf4-d773-9ce40f238caa"
      },
      "execution_count": 24,
      "outputs": [
        {
          "output_type": "execute_result",
          "data": {
            "text/plain": [
              "0"
            ]
          },
          "metadata": {},
          "execution_count": 24
        }
      ]
    },
    {
      "cell_type": "code",
      "source": [
        "#INDEX\n",
        "\n",
        "#Busca el elemento y muestra la posicion(indice) pero muestra el primer valor que encuentra\n",
        "#Si no lo encuentra arroja un error\n",
        "\n",
        "colores.index(\"Amarillo\")"
      ],
      "metadata": {
        "colab": {
          "base_uri": "https://localhost:8080/"
        },
        "id": "qHs4yICip0lQ",
        "outputId": "f3a7a1d6-f9fe-4aa7-f53c-9125ac68db1d"
      },
      "execution_count": 26,
      "outputs": [
        {
          "output_type": "execute_result",
          "data": {
            "text/plain": [
              "3"
            ]
          },
          "metadata": {},
          "execution_count": 26
        }
      ]
    },
    {
      "cell_type": "code",
      "source": [
        "#CLEAR\n",
        "\n",
        "#limpia la lista. La deja 0 y devuelve solo []\n",
        "#Se puede usar para limpiar un carrito de compras por ejemplo.\n",
        "#para borrar un elemento es pop\n",
        "\n",
        "colores.clear()\n",
        "print(colores)"
      ],
      "metadata": {
        "colab": {
          "base_uri": "https://localhost:8080/"
        },
        "id": "TfnrEFkUqmRS",
        "outputId": "5b909d07-7bcd-4aea-adf7-30f0f43cb516"
      },
      "execution_count": 27,
      "outputs": [
        {
          "output_type": "stream",
          "name": "stdout",
          "text": [
            "[]\n"
          ]
        }
      ]
    },
    {
      "cell_type": "code",
      "source": [
        "#CASE SENSITIVE\n",
        "\n",
        "#python es sensible a las mayusculas y minusculas\n",
        "\n",
        "NUMERO_UNO = 20\n",
        "numero_UNO = 30\n",
        "numero_uno = 50\n",
        "\n",
        "print(numero_UNO)\n",
        "print(numero_uno)\n",
        "print(NUMERO_UNO)"
      ],
      "metadata": {
        "colab": {
          "base_uri": "https://localhost:8080/"
        },
        "id": "89Qh40udrbpx",
        "outputId": "e6878aea-5bd1-4390-f1a2-5208018b1b4d"
      },
      "execution_count": 28,
      "outputs": [
        {
          "output_type": "stream",
          "name": "stdout",
          "text": [
            "30\n",
            "50\n",
            "20\n"
          ]
        }
      ]
    },
    {
      "cell_type": "code",
      "source": [
        "#TUPLAS\n",
        "\n",
        "#esta pensada para versionar multiples valores. es ordenada e indexada pero INMUTABLE\n",
        "# en este caso no se puede modificar. es heterogenea.\n",
        "#se crea con ()\n",
        "#se usan para cuando no quiero que se modifique un dato. valores constantes.\n",
        "\n",
        "nombres = (\"Juan\", \"Marta\", \"Ramon\")\n",
        "print(nombres)\n"
      ],
      "metadata": {
        "colab": {
          "base_uri": "https://localhost:8080/"
        },
        "id": "3EZTLU1FuxdF",
        "outputId": "18c41647-c558-4332-c3af-8ec0c93e639d"
      },
      "execution_count": 29,
      "outputs": [
        {
          "output_type": "stream",
          "name": "stdout",
          "text": [
            "('Juan', 'Marta', 'Ramon')\n"
          ]
        }
      ]
    },
    {
      "cell_type": "code",
      "source": [
        "#ORDENADA--> INDEXADA\n",
        "\n",
        "print(nombres[1])"
      ],
      "metadata": {
        "colab": {
          "base_uri": "https://localhost:8080/"
        },
        "id": "-c1gtju2vL9H",
        "outputId": "2f9588d9-1fda-4e6d-a72c-2b2e9c4d374e"
      },
      "execution_count": 30,
      "outputs": [
        {
          "output_type": "stream",
          "name": "stdout",
          "text": [
            "Marta\n"
          ]
        }
      ]
    },
    {
      "cell_type": "code",
      "source": [
        "#CONSTRUCTORES\n",
        "# listas y tuplas tienen una forma explisita que voy a crear uno u otro.\n",
        "#no suele ser muy usado. es una funcion. a modo informativo.\n",
        "\n",
        "#lista_colores = list()\n",
        "#tupla_colores = tuple()\n",
        "\n",
        "#nosotros vamos a usar las formas anteriores."
      ],
      "metadata": {
        "id": "3WiRRB0lvuwB"
      },
      "execution_count": null,
      "outputs": []
    },
    {
      "cell_type": "code",
      "source": [
        "#cambiar lista por tupla (ejemplo)\n",
        "\n",
        "tupla_nombres = (\"Jose\", \"Juan\", \"Pedro\")\n",
        "\n",
        "lista_cambio = list(tupla_nombres)\n",
        "\n",
        "lista_cambio[1] = \"Juana\"\n",
        "\n",
        "tupla_nombres = tuple(lista_cambio)\n",
        "\n",
        "print(tupla_nombres)"
      ],
      "metadata": {
        "colab": {
          "base_uri": "https://localhost:8080/"
        },
        "id": "4W8qYRU5wxq4",
        "outputId": "ccd0420e-e563-4bef-8763-b94b9c37ff7d"
      },
      "execution_count": 31,
      "outputs": [
        {
          "output_type": "stream",
          "name": "stdout",
          "text": [
            "('Jose', 'Juana', 'Pedro')\n"
          ]
        }
      ]
    },
    {
      "cell_type": "code",
      "source": [
        "#se puede usar para saber el largo o cantidad de elementos de listas, tiplas o strings\n",
        "\n",
        "print(len(tupla_nombres))"
      ],
      "metadata": {
        "colab": {
          "base_uri": "https://localhost:8080/"
        },
        "id": "2ZzpyQWNxftr",
        "outputId": "997c605b-39ed-4d40-cb3f-03404c64ed78"
      },
      "execution_count": 32,
      "outputs": [
        {
          "output_type": "stream",
          "name": "stdout",
          "text": [
            "3\n"
          ]
        }
      ]
    },
    {
      "cell_type": "code",
      "source": [
        "#SLICING ---> strings\n",
        "\n",
        "#cortar listas o strings\n",
        "\n",
        "nombre = \"Juan Ramon\"\n",
        "print(len(nombre))"
      ],
      "metadata": {
        "colab": {
          "base_uri": "https://localhost:8080/"
        },
        "id": "8u4aZ822xuuN",
        "outputId": "59b1f972-dc50-449c-fce2-33356184f346"
      },
      "execution_count": 33,
      "outputs": [
        {
          "output_type": "stream",
          "name": "stdout",
          "text": [
            "10\n"
          ]
        }
      ]
    },
    {
      "cell_type": "code",
      "source": [
        "#los strings tambien son ordenados e indexados\n",
        "nombre[0]"
      ],
      "metadata": {
        "colab": {
          "base_uri": "https://localhost:8080/",
          "height": 36
        },
        "id": "skByBUNtyIUN",
        "outputId": "650a39f1-a693-407d-a922-720b1bd0dcb2"
      },
      "execution_count": 34,
      "outputs": [
        {
          "output_type": "execute_result",
          "data": {
            "text/plain": [
              "'J'"
            ],
            "application/vnd.google.colaboratory.intrinsic+json": {
              "type": "string"
            }
          },
          "metadata": {},
          "execution_count": 34
        }
      ]
    },
    {
      "cell_type": "code",
      "source": [
        "#otro ejemplo\n",
        "nombre[5]"
      ],
      "metadata": {
        "colab": {
          "base_uri": "https://localhost:8080/",
          "height": 36
        },
        "id": "h0uLib-ByXL6",
        "outputId": "3bc10ba2-d68f-476f-a19d-891b6779b464"
      },
      "execution_count": 35,
      "outputs": [
        {
          "output_type": "execute_result",
          "data": {
            "text/plain": [
              "'R'"
            ],
            "application/vnd.google.colaboratory.intrinsic+json": {
              "type": "string"
            }
          },
          "metadata": {},
          "execution_count": 35
        }
      ]
    },
    {
      "cell_type": "code",
      "source": [
        "#los strings son inmutables. no se pueden cambiar los datos como las listas\n",
        "\n",
        "#nombre[4]= \"a\""
      ],
      "metadata": {
        "id": "GaXPMsQ6ykjn"
      },
      "execution_count": 37,
      "outputs": []
    },
    {
      "cell_type": "code",
      "source": [
        "#string[inicio:fin]\n",
        "\n",
        "nombre[0:4]"
      ],
      "metadata": {
        "colab": {
          "base_uri": "https://localhost:8080/",
          "height": 36
        },
        "id": "JyIFMc7Ey5Is",
        "outputId": "9a4b4765-78e5-4ac9-feb1-e1c758b4431d"
      },
      "execution_count": 39,
      "outputs": [
        {
          "output_type": "execute_result",
          "data": {
            "text/plain": [
              "'Juan'"
            ],
            "application/vnd.google.colaboratory.intrinsic+json": {
              "type": "string"
            }
          },
          "metadata": {},
          "execution_count": 39
        }
      ]
    },
    {
      "cell_type": "code",
      "source": [
        "nombre[5:10]\n",
        "#tambien podemos dejar el inicio como el final vacios como parametro.\n",
        "#ej nombre[:4] o nombre[5:]\n",
        "#o para que vaya de inicio a fin directamente [:]"
      ],
      "metadata": {
        "colab": {
          "base_uri": "https://localhost:8080/",
          "height": 36
        },
        "id": "_JPWNkPjzfhF",
        "outputId": "cae2868b-b1fd-4cd0-b9e3-f8d82206fafa"
      },
      "execution_count": 40,
      "outputs": [
        {
          "output_type": "execute_result",
          "data": {
            "text/plain": [
              "'Ramon'"
            ],
            "application/vnd.google.colaboratory.intrinsic+json": {
              "type": "string"
            }
          },
          "metadata": {},
          "execution_count": 40
        }
      ]
    },
    {
      "cell_type": "code",
      "source": [
        "#SLICING --->LISTAS\n",
        "\n",
        "colores = [\"Rojo\", \"Azul\", \"Verde\", \"Amarillo\", \"Violeta\"]\n",
        "\n",
        "#lista[inicio:fin]\n",
        "colores[0:3]\n",
        "\n",
        "#se puede guardar ese corte como nueva lista ej corte_colores = colores[0:3]\n"
      ],
      "metadata": {
        "colab": {
          "base_uri": "https://localhost:8080/"
        },
        "id": "4Jkyd_Oc02x3",
        "outputId": "30adfb25-ce04-4182-95cb-f931c4aff78c"
      },
      "execution_count": 43,
      "outputs": [
        {
          "output_type": "execute_result",
          "data": {
            "text/plain": [
              "['Rojo', 'Azul', 'Verde']"
            ]
          },
          "metadata": {},
          "execution_count": 43
        }
      ]
    },
    {
      "cell_type": "code",
      "source": [
        "#el corte no altera el original\n",
        "print(colores)"
      ],
      "metadata": {
        "colab": {
          "base_uri": "https://localhost:8080/"
        },
        "id": "1HyrMNQ91nKY",
        "outputId": "bc4b9020-9bec-4342-867a-3f90a4c93151"
      },
      "execution_count": 44,
      "outputs": [
        {
          "output_type": "stream",
          "name": "stdout",
          "text": [
            "['Rojo', 'Azul', 'Verde', 'Amarillo', 'Violeta']\n"
          ]
        }
      ]
    },
    {
      "cell_type": "code",
      "source": [
        "colores_dos = colores[2:4]\n",
        "print(colores_dos)"
      ],
      "metadata": {
        "colab": {
          "base_uri": "https://localhost:8080/"
        },
        "id": "xYJ3So8C1pl_",
        "outputId": "0ce4d8fd-35c2-4de2-8843-fa39c16adb2d"
      },
      "execution_count": 45,
      "outputs": [
        {
          "output_type": "stream",
          "name": "stdout",
          "text": [
            "['Verde', 'Amarillo']\n"
          ]
        }
      ]
    },
    {
      "cell_type": "code",
      "source": [
        "#listas salteadas\n",
        "\n",
        "#listas[inicio:fin:paso]\n",
        "colores[: :2]"
      ],
      "metadata": {
        "colab": {
          "base_uri": "https://localhost:8080/"
        },
        "id": "GfHAOuGG2E8Q",
        "outputId": "326987b4-9288-4ef8-f5be-151421b193d7"
      },
      "execution_count": 47,
      "outputs": [
        {
          "output_type": "execute_result",
          "data": {
            "text/plain": [
              "['Rojo', 'Verde', 'Violeta']"
            ]
          },
          "metadata": {},
          "execution_count": 47
        }
      ]
    },
    {
      "cell_type": "code",
      "source": [
        "#otro ejemplo de saltos o \"paso\"\n",
        "numeros = [0,1,2,3,4,5,6,7,8,9,10,11,12,13,14,15,16,17,18,19,20]\n",
        "\n",
        "corte_numeros = numeros[0:22:2]\n",
        "#se puede hacer tambien [::2]\n",
        "print(corte_numeros)"
      ],
      "metadata": {
        "colab": {
          "base_uri": "https://localhost:8080/"
        },
        "id": "skc_9Miz2cVa",
        "outputId": "0eb729af-f357-4389-ca83-d59b64129612"
      },
      "execution_count": 50,
      "outputs": [
        {
          "output_type": "stream",
          "name": "stdout",
          "text": [
            "[0, 2, 4, 6, 8, 10, 12, 14, 16, 18, 20]\n"
          ]
        }
      ]
    }
  ]
}