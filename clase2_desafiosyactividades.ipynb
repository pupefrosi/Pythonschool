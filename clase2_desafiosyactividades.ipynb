{
  "nbformat": 4,
  "nbformat_minor": 0,
  "metadata": {
    "colab": {
      "provenance": [],
      "authorship_tag": "ABX9TyPZ6B4cJpV49W/O0K4gnRy3",
      "include_colab_link": true
    },
    "kernelspec": {
      "name": "python3",
      "display_name": "Python 3"
    },
    "language_info": {
      "name": "python"
    }
  },
  "cells": [
    {
      "cell_type": "markdown",
      "metadata": {
        "id": "view-in-github",
        "colab_type": "text"
      },
      "source": [
        "<a href=\"https://colab.research.google.com/github/pupefrosi/Pythonschool/blob/main/clase2_desafiosyactividades.ipynb\" target=\"_parent\"><img src=\"https://colab.research.google.com/assets/colab-badge.svg\" alt=\"Open In Colab\"/></a>"
      ]
    },
    {
      "cell_type": "code",
      "execution_count": 16,
      "metadata": {
        "colab": {
          "base_uri": "https://localhost:8080/"
        },
        "id": "nnW4Ydu4ZMVk",
        "outputId": "35a65461-aef3-47f0-dd90-53c974e104c4"
      },
      "outputs": [
        {
          "output_type": "stream",
          "name": "stdout",
          "text": [
            "[456789, 'Hola Mundo']\n",
            "['Hola y Adios', 5555]\n",
            "[456789]\n",
            "[]\n",
            "[456789]\n"
          ]
        }
      ],
      "source": [
        "#ACTIVIDAD EN CLASE\n",
        "\n",
        "#Desafio de Listas\n",
        "\n",
        "#alternativa n°1\n",
        "\n",
        "lista1 = [456789]\n",
        "lista1.append(\"Hola Mundo\")\n",
        "print(lista1)\n",
        "\n",
        "lista2 = [\"Hola y Adios\"]\n",
        "lista2.append(5555)\n",
        "print(lista2)\n",
        "\n",
        "lista1.pop()\n",
        "\n",
        "lista3 = lista1\n",
        "print(lista3)\n",
        "\n",
        "lista2[0:2] = []\n",
        "lista4 = lista2\n",
        "print(lista4)\n",
        "\n",
        "lista5 = lista1 + lista2\n",
        "print(lista5)"
      ]
    },
    {
      "cell_type": "code",
      "source": [
        "#Desafio de Tuplas\n",
        "\n",
        "tupla = (8, 15, 4, 39, 5, 89, 87, 19, 7, -755, 88, 123, 2, 11, 15, 9, 355)\n",
        "\n",
        "#1-ultimo item de tupla\n",
        "tupla[-1]\n",
        "\n",
        "#2- el numero de items de la tupla\n",
        "len(tupla)\n",
        "\n",
        "#3-la posicion donde se encuentra el item 87 de tupla\n",
        "tupla.index(87)\n",
        "\n",
        "#4-Lista con los ultimos 3 items de tupla\n",
        "tupla[-3:]\n",
        "\n",
        "#5-un item que haya en la posicion 8 de tupla\n",
        "tupla[8]\n",
        "\n",
        "#6- el numero de veces que el item 7 aparece en tupla\n",
        "tupla.count(7)"
      ],
      "metadata": {
        "colab": {
          "base_uri": "https://localhost:8080/"
        },
        "id": "wLBfPSupUpfX",
        "outputId": "49c7d97b-44a1-4582-dea5-3486af782da2"
      },
      "execution_count": 28,
      "outputs": [
        {
          "output_type": "execute_result",
          "data": {
            "text/plain": [
              "1"
            ]
          },
          "metadata": {},
          "execution_count": 28
        }
      ]
    },
    {
      "cell_type": "code",
      "source": [
        "#ACTIVIDAD EXTRA N°2\n",
        "#1- Identifica el tipo de dato(int, float, string, list o tuple) de lo siguientes valores literales:\n",
        "\n",
        "#string1 = \"Hola Mundo\"\n",
        "#string2 = \"\"\n",
        "#lista1 = [1, 10, 100]\n",
        "#lista2 = [\"Hola\", \"Mundo\"]\n",
        "#interger = -25\n",
        "#tupla1 = (8, 100, -12)\n",
        "#tupla2 = (1, -5, \"Hola!\")\n",
        "#float1 = 1.167\n",
        "\n"
      ],
      "metadata": {
        "id": "O4Nsyv58bxOv"
      },
      "execution_count": 37,
      "outputs": []
    },
    {
      "cell_type": "code",
      "source": [
        "\n",
        "#2 -\n",
        "a = 10\n",
        "b = -5\n",
        "c = \"Hola\"\n",
        "d = [1, 2, 3]\n",
        "e = (4, 5, 6)\n",
        "\n",
        "print(a * 5)\n",
        "print(a - b)\n",
        "print(c + \"Mundo\")\n",
        "print(c * 2)\n",
        "print(c[-1])\n",
        "print(c[1:])\n",
        "print(d + d)\n",
        "print(e[1])\n",
        "print(e + (7,8,9))"
      ],
      "metadata": {
        "colab": {
          "base_uri": "https://localhost:8080/"
        },
        "id": "usf2P1KwfxXb",
        "outputId": "96b564bc-efc9-48e3-9aa9-4b485a69eef0"
      },
      "execution_count": 38,
      "outputs": [
        {
          "output_type": "stream",
          "name": "stdout",
          "text": [
            "50\n",
            "15\n",
            "HolaMundo\n",
            "HolaHola\n",
            "a\n",
            "ola\n",
            "[1, 2, 3, 1, 2, 3]\n",
            "5\n",
            "(4, 5, 6, 7, 8, 9)\n"
          ]
        }
      ]
    },
    {
      "cell_type": "code",
      "source": [
        "#3 - El siguiente codigo pretende realizar la media entre 3 numeros, pero no funciona correctamente\n",
        "# Eres capaz de identificar el problema y solucionarlo?\n",
        "# * La solucion esta en que para que tome la suma y la divida en 3 debe estar contenida con (). Caso contrario, /3 solo divide al numero_3 y luego lo suma con el resto.\n",
        "\n",
        "numero_1 = 9\n",
        "numero_2 = 3\n",
        "numero_3 = 6\n",
        "\n",
        "media = (numero_1 + numero_2 + numero_3) / 3\n",
        "print(\"La nota media es\", media)\n"
      ],
      "metadata": {
        "colab": {
          "base_uri": "https://localhost:8080/"
        },
        "id": "ePX3mrxnf4XF",
        "outputId": "453529fd-5124-48bc-ae18-09f9d85e0af5"
      },
      "execution_count": 39,
      "outputs": [
        {
          "output_type": "stream",
          "name": "stdout",
          "text": [
            "La nota media es 6.0\n"
          ]
        }
      ]
    },
    {
      "cell_type": "code",
      "source": [
        "#4 - A partir del ejercicio anterior, desarrolla un programa para calcular la nota final.\n",
        "#Para ello, vamos a suponer que cada numero es una nota y que queremos obtener la nota media.\n",
        "# Cada nota tiene un valor porcentual: 1°nota=15%, 2°nota=35% y 3°nota=50%.\n",
        "\n",
        "nota_1 = 10\n",
        "nota_2 = 7\n",
        "nota_3 = 4\n",
        "\n",
        "nota_media = ((nota_1 * 15) + (nota_2 * 35) + (nota_3 * 50))/100\n",
        "\n",
        "print(nota_media)"
      ],
      "metadata": {
        "colab": {
          "base_uri": "https://localhost:8080/"
        },
        "id": "-BOg9O2mf-Cp",
        "outputId": "5cc43e44-73a7-4d3f-b630-06909d1dc310"
      },
      "execution_count": 40,
      "outputs": [
        {
          "output_type": "stream",
          "name": "stdout",
          "text": [
            "5.95\n"
          ]
        }
      ]
    },
    {
      "cell_type": "code",
      "source": [
        "# 5- La siguiente matriz(o lista de listas anidadas) debe cumplir una condicion:\n",
        "#en cada fila, el cuarto elemento siempre debe ser el resultado de sumar los 3 primeros.\n",
        "#¿Eres capaz de modificar las sumas incorrectas utilizando la tecnica del slicing?\n",
        "#Ayuda: la funcion sum(lista) devuelve la suma de todos los elementos de la lista.\n",
        "\n",
        "matriz = [\n",
        "    [1,5,1],\n",
        "    [2,1,2],\n",
        "    [3,0,1],\n",
        "    [1,4,4]\n",
        "]\n",
        "\n",
        "matriz[0].append(sum(matriz[0]))\n",
        "matriz[1].append(sum(matriz[1]))\n",
        "matriz[2].append(sum(matriz[2]))\n",
        "matriz[3].append(sum(matriz[3]))\n",
        "\n",
        "print(matriz)"
      ],
      "metadata": {
        "colab": {
          "base_uri": "https://localhost:8080/"
        },
        "id": "P9FrmSKci_zw",
        "outputId": "3addbaac-d03e-4245-c9fd-d1628b53b537"
      },
      "execution_count": 55,
      "outputs": [
        {
          "output_type": "stream",
          "name": "stdout",
          "text": [
            "[[1, 5, 1, 7], [2, 1, 2, 5], [3, 0, 1, 4], [1, 4, 4, 9]]\n"
          ]
        }
      ]
    }
  ]
}