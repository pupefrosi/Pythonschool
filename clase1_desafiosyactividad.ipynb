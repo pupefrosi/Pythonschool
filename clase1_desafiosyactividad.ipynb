{
  "nbformat": 4,
  "nbformat_minor": 0,
  "metadata": {
    "colab": {
      "provenance": [],
      "authorship_tag": "ABX9TyO3kCrvcSkLA6nc4OjV9Rtr",
      "include_colab_link": true
    },
    "kernelspec": {
      "name": "python3",
      "display_name": "Python 3"
    },
    "language_info": {
      "name": "python"
    }
  },
  "cells": [
    {
      "cell_type": "markdown",
      "metadata": {
        "id": "view-in-github",
        "colab_type": "text"
      },
      "source": [
        "<a href=\"https://colab.research.google.com/github/pupefrosi/Pythonschool/blob/main/clase1_desafiosyactividad.ipynb\" target=\"_parent\"><img src=\"https://colab.research.google.com/assets/colab-badge.svg\" alt=\"Open In Colab\"/></a>"
      ]
    },
    {
      "cell_type": "code",
      "execution_count": 24,
      "metadata": {
        "colab": {
          "base_uri": "https://localhost:8080/"
        },
        "id": "4ItBbk57lwIM",
        "outputId": "3dfe04b2-1182-4705-8275-7401ba1d5168"
      },
      "outputs": [
        {
          "output_type": "stream",
          "name": "stdout",
          "text": [
            "¿Cuántos partidos ganaron?8\n",
            "¿Cuántos partidos empataron?7\n",
            "¿Cuántos partidos perdieron?5\n",
            "Su promedio de puntos en los partidos es de 1.55\n"
          ]
        }
      ],
      "source": [
        "#DESAFIO NUMEROS\n",
        "\n",
        "partidos_ganados = int(input(\"¿Cuántos partidos ganaron?\"))\n",
        "partidos_empatados = int(input(\"¿Cuántos partidos empataron?\"))\n",
        "partidos_perdidos = int(input(\"¿Cuántos partidos perdieron?\"))\n",
        "\n",
        "promedio_puntaje = ((3*partidos_ganados) + (1 * partidos_empatados) + (0 * partidos_perdidos)) / 20\n",
        "\n",
        "print(f\"Su promedio de puntos en los partidos es de {promedio_puntaje}\")\n"
      ]
    },
    {
      "cell_type": "code",
      "source": [
        "#DESAFIO STRINGS\n",
        "\n",
        "cadena_1 = \"versátil\"\n",
        "cadena_2 = \"Python\"\n",
        "cadena_3 = \"es un lenguaje\"\n",
        "cadena_4 = \"de programación\"\n",
        "\n",
        "oracion = cadena_2 + \" \" + cadena_3 + \" \" + cadena_4 + \" \" + cadena_1\n",
        "\n",
        "print(oracion)"
      ],
      "metadata": {
        "colab": {
          "base_uri": "https://localhost:8080/"
        },
        "id": "xvcWBxyg0gAZ",
        "outputId": "a4fdcdac-0eeb-438b-cd00-2f49225efa83"
      },
      "execution_count": 6,
      "outputs": [
        {
          "output_type": "stream",
          "name": "stdout",
          "text": [
            "Python es un lenguaje de programación versátil\n"
          ]
        }
      ]
    },
    {
      "cell_type": "code",
      "source": [
        "#DESAFIO SLICING\n",
        "\n",
        "cadena = \"acitámetaM ,5.8 ,otipeP ordeP\"\n",
        "\n",
        "cadena_volteada = cadena[::-1]\n",
        "print(cadena_volteada)\n",
        "\n",
        "nombre_alumno = cadena_volteada[0:12:1]\n",
        "print(nombre_alumno)\n",
        "\n",
        "nota = cadena_volteada[14:17:1]\n",
        "print(nota)\n",
        "\n",
        "materia = cadena_volteada[19:29:1]\n",
        "print(materia)\n",
        "\n",
        "print(nombre_alumno + \" ha sacado un \" + nota + \" en \" + materia)"
      ],
      "metadata": {
        "colab": {
          "base_uri": "https://localhost:8080/"
        },
        "id": "vY6cxSZ55uME",
        "outputId": "e9ea3bf7-f66d-4533-8239-6e7d8d9b0605"
      },
      "execution_count": 15,
      "outputs": [
        {
          "output_type": "stream",
          "name": "stdout",
          "text": [
            "Pedro Pepito, 8.5, Matemática\n",
            "Pedro Pepito\n",
            "8.5\n",
            "Matemática\n",
            "Pedro Pepito ha sacado un 8.5 en Matemática\n"
          ]
        }
      ]
    },
    {
      "cell_type": "code",
      "source": [
        "#ACTIVIDAD N°1\n",
        "\n",
        "nota_1 = int(input(\"ingrese nota 1 \"))\n",
        "nota_2 = int(input(\"ingrese nota 2 \"))\n",
        "nota_3 = int(input(\"ingrese nota 3 \"))\n",
        "\n",
        "nota_final = ((nota_1 * 20) + (nota_2 * 30) + (nota_3 * 50))/100\n",
        "\n",
        "print(f\"Su nota final es {nota_final}\")"
      ],
      "metadata": {
        "colab": {
          "base_uri": "https://localhost:8080/"
        },
        "id": "5OFEUA-4Hz24",
        "outputId": "4aefec58-fcc4-4130-9643-ed237c0c779d"
      },
      "execution_count": 23,
      "outputs": [
        {
          "output_type": "stream",
          "name": "stdout",
          "text": [
            "ingrese nota 1 9\n",
            "ingrese nota 2 8\n",
            "ingrese nota 3 7\n",
            "Su nota final es 7.7\n"
          ]
        }
      ]
    }
  ]
}